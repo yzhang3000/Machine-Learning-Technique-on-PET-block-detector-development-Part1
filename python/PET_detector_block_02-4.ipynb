{
 "cells": [
  {
   "cell_type": "markdown",
   "metadata": {},
   "source": [
    "# Machine Learning technique on PET block detector development - Part 2-4\n",
    "\n",
    "## Crystal/Pixel discrimination for DQS PET block detector using Machine Learning techniques (v1.0, 2019-09)   \n",
    "## (Continued from Part 2-3)\n",
    "---\n"
   ]
  },
  {
   "cell_type": "markdown",
   "metadata": {},
   "source": [
    "###  \n",
    "### 8. Scintillator/Pixel discrimination using ML algorithms - Part IV, using Neuro Network algorithm\n",
    "***"
   ]
  },
  {
   "cell_type": "code",
   "execution_count": 12,
   "metadata": {},
   "outputs": [],
   "source": [
    "# load libraries\n",
    "\n",
    "import uproot\n",
    "import numpy as np\n",
    "import pandas as pd\n",
    "import matplotlib.pyplot as plt\n",
    "import matplotlib as mpl\n",
    "# %matplotlib qt\n",
    "%matplotlib inline\n",
    "# %matplotlib notebook\n",
    "\n",
    "import pickle\n",
    "from sklearn.externals import joblib\n",
    "from sklearn import metrics\n",
    "import time\n",
    "\n",
    "plt.rcParams['figure.dpi'] = 120 # default is 72"
   ]
  },
  {
   "cell_type": "code",
   "execution_count": 13,
   "metadata": {},
   "outputs": [],
   "source": [
    "# re-load data\n",
    "\n",
    "file = \"D:\\\\ML on PET block\\\\new_concept_block_lso\\\\new_concept_block_15x15\\\\results\\\\ML_data\\\\new_concept_block_15x15_sorted_events1.csv\"\n",
    "df0 = pd.read_csv (file, comment='#')\n",
    "\n",
    "X = df0.iloc[:,4:].values\n",
    "decoding = df0.iloc[:,0:4].values\n"
   ]
  },
  {
   "cell_type": "code",
   "execution_count": 14,
   "metadata": {},
   "outputs": [],
   "source": [
    "infile = open('./pickle/temp_data1','rb')\n",
    "X_t, X_b, X_a, X_g, X_c, index_train, index_test = pickle.load(infile)\n",
    "infile.close()\n"
   ]
  },
  {
   "cell_type": "code",
   "execution_count": 15,
   "metadata": {},
   "outputs": [],
   "source": [
    "# pixel_xy = np.array(df0['index_y'] * 15 + df0['index_x'])\n",
    "pixel_x = np.array(df0['index_x'])\n",
    "pixel_y = np.array(df0['index_y'])\n",
    "pixel_xy = pixel_y * 15 + pixel_x\n",
    "\n",
    "pixel_x_train = pixel_x[index_train]\n",
    "pixel_y_train = pixel_y[index_train]\n",
    "pixel_xy_train = pixel_xy[index_train]\n",
    "\n",
    "pixel_x_test = pixel_x[index_test]\n",
    "pixel_y_test = pixel_y[index_test]\n",
    "pixel_xy_test = pixel_xy[index_test]\n"
   ]
  },
  {
   "cell_type": "markdown",
   "metadata": {},
   "source": [
    "####  \n",
    "#### 8.1 pixel discrimination using ANN algorithm from sklearn MLP classifier"
   ]
  },
  {
   "cell_type": "code",
   "execution_count": 16,
   "metadata": {},
   "outputs": [],
   "source": [
    "from sklearn.neural_network import MLPClassifier\n",
    "\n",
    "X_train = X[index_train]\n",
    "X_test = X[index_test]\n",
    "y_train = pixel_xy[index_train]\n",
    "y_test = pixel_xy[index_test]"
   ]
  },
  {
   "cell_type": "code",
   "execution_count": 78,
   "metadata": {},
   "outputs": [
    {
     "name": "stdout",
     "output_type": "stream",
     "text": [
      "Iteration 1, loss = 5.39806428\n",
      "Iteration 2, loss = 5.27865488\n",
      "Iteration 3, loss = 4.97004941\n",
      "Iteration 4, loss = 4.60513156\n",
      "Iteration 5, loss = 4.28707826\n",
      "Iteration 6, loss = 4.02161169\n",
      "Iteration 7, loss = 3.79116923\n",
      "Iteration 8, loss = 3.58412266\n",
      "Iteration 9, loss = 3.40035428\n",
      "Iteration 10, loss = 3.23616909\n",
      "Iteration 11, loss = 3.09086623\n",
      "Iteration 12, loss = 2.96147892\n",
      "Iteration 13, loss = 2.84439253\n",
      "Iteration 14, loss = 2.73884575\n",
      "Iteration 15, loss = 2.64435978\n",
      "Iteration 16, loss = 2.55739088\n",
      "Iteration 17, loss = 2.47747422\n",
      "Iteration 18, loss = 2.40257637\n",
      "Iteration 19, loss = 2.33235250\n",
      "Iteration 20, loss = 2.26793813\n",
      "Iteration 21, loss = 2.20669978\n",
      "Iteration 22, loss = 2.15049892\n",
      "Iteration 23, loss = 2.09768510\n",
      "Iteration 24, loss = 2.04888761\n",
      "Iteration 25, loss = 2.00375291\n",
      "Iteration 26, loss = 1.96221178\n",
      "Iteration 27, loss = 1.92107573\n",
      "Iteration 28, loss = 1.88377336\n",
      "Iteration 29, loss = 1.84746939\n",
      "Iteration 30, loss = 1.81265184\n",
      "Iteration 31, loss = 1.78193344\n",
      "Iteration 32, loss = 1.75168466\n",
      "Iteration 33, loss = 1.72072500\n",
      "Iteration 34, loss = 1.69254317\n",
      "Iteration 35, loss = 1.66575966\n",
      "Iteration 36, loss = 1.63925357\n",
      "Iteration 37, loss = 1.61704226\n",
      "Iteration 38, loss = 1.59632726\n",
      "Iteration 39, loss = 1.57221413\n",
      "Iteration 40, loss = 1.55273630\n",
      "Iteration 41, loss = 1.53528501\n",
      "Iteration 42, loss = 1.51878124\n",
      "Iteration 43, loss = 1.50348027\n",
      "Iteration 44, loss = 1.48681373\n",
      "Iteration 45, loss = 1.47056462\n",
      "Iteration 46, loss = 1.45640938\n",
      "Iteration 47, loss = 1.44430286\n",
      "Iteration 48, loss = 1.43059976\n",
      "Iteration 49, loss = 1.41740491\n",
      "Iteration 50, loss = 1.40741860\n",
      "0.634 11.235021591186523\n"
     ]
    },
    {
     "name": "stderr",
     "output_type": "stream",
     "text": [
      "C:\\ProgramData\\Anaconda3\\lib\\site-packages\\sklearn\\neural_network\\multilayer_perceptron.py:562: ConvergenceWarning: Stochastic Optimizer: Maximum iterations (50) reached and the optimization hasn't converged yet.\n",
      "  % self.max_iter, ConvergenceWarning)\n"
     ]
    }
   ],
   "source": [
    "\n",
    "train_length = 20000\n",
    "test_length = 1000\n",
    "\n",
    "t0 = time.time()\n",
    "mlp = MLPClassifier(hidden_layer_sizes=(36,30), activation='logistic', max_iter=50, warm_start=True, verbose=True)\n",
    "mlp.fit(X_train[:train_length],y_train[:train_length])\n",
    "y_pred = mlp.predict(X_test[:test_length])\n",
    "accu= sum(y_test[:test_length]==y_pred) / test_length\n",
    "t1 = time.time()\n",
    "print(accu, t1-t0)\n"
   ]
  },
  {
   "cell_type": "markdown",
   "metadata": {},
   "source": [
    "##### 8.1.1 compare the activation functions and iterations"
   ]
  },
  {
   "cell_type": "code",
   "execution_count": 117,
   "metadata": {},
   "outputs": [],
   "source": [
    "accuracy = []\n",
    "activation = ['identity', 'logistic', 'tanh', 'relu']\n",
    "\n",
    "train_length = 20000\n",
    "test_length = 1000\n",
    "\n",
    "mlps = []\n",
    "for act in activation:\n",
    "    mlp = MLPClassifier(hidden_layer_sizes=(24,30), activation=act, max_iter=1, warm_start=True)\n",
    "    mlps.append(mlp)"
   ]
  },
  {
   "cell_type": "code",
   "execution_count": 118,
   "metadata": {},
   "outputs": [],
   "source": [
    "loss = [[],[],[],[]]\n",
    "accuracy = [[],[],[],[]]\n",
    "iteration = [[],[],[],[]]\n",
    "\n",
    "for index, act in enumerate(activation): \n",
    "    for iter in range(40):\n",
    "        for i in range(10):\n",
    "            mlps[index].fit(X_train[:train_length], y_train[:train_length])\n",
    "        loss[index].append(mlps[index].loss_)\n",
    "        iteration[index].append(mlps[index].n_iter_)\n",
    "        \n",
    "        y_pred = mlps[index].predict(X_test[:test_length])\n",
    "        a = sum(y_test[:test_length]==y_pred) / test_length\n",
    "        accuracy[index].append(a)"
   ]
  },
  {
   "cell_type": "code",
   "execution_count": 129,
   "metadata": {},
   "outputs": [
    {
     "data": {
      "image/png": "[encoded data removed]",
      "text/plain": [
       "<Figure size 576x216 with 2 Axes>"
      ]
     },
     "metadata": {
      "needs_background": "light"
     },
     "output_type": "display_data"
    }
   ],
   "source": [
    "fig, ax = plt.subplots(1,2, figsize=(8,3))\n",
    "fig.suptitle('MLP, activation functions and iterations', fontsize=16)\n",
    "fig.tight_layout()\n",
    "fig.subplots_adjust(top=0.9)\n",
    "\n",
    "lines = []\n",
    "for j in range(len(accuracy)):\n",
    "    line, = ax[0].plot(iteration[j], accuracy[j], 'o-', label=activation[j])\n",
    "    lines.append(line)\n",
    "    \n",
    "#ax[0].set_title(\"\")\n",
    "ax[0].set_xlabel(\"Number of iterations\")\n",
    "ax[0].set_ylabel(\"Accuracy\")\n",
    "ax[0].legend()\n",
    "\n",
    "\n",
    "lines = []\n",
    "for j in range(len(loss)):\n",
    "    line, = ax[1].plot(iteration[j], loss[j], 'o-', label=activation[j])\n",
    "    lines.append(line)\n",
    "    \n",
    "#ax[1].set_title(\"\")\n",
    "ax[1].set_xlabel(\"Number of iterations\")\n",
    "ax[1].set_ylabel(\"LOSS\")\n",
    "ax[1].legend()\n",
    "\n",
    "plt.savefig(\".\\\\figs2\\\\MLP_accu_vs_iteration1.png\", dpi=300)\n"
   ]
  },
  {
   "cell_type": "markdown",
   "metadata": {},
   "source": [
    "##### 8.1.2 compare the hidden layer node number ('relu' and 'logistic' only) using grid search"
   ]
  },
  {
   "cell_type": "code",
   "execution_count": 140,
   "metadata": {},
   "outputs": [
    {
     "data": {
      "text/plain": [
       "GridSearchCV(cv=5, error_score='raise-deprecating',\n",
       "       estimator=MLPClassifier(activation='relu', alpha=0.0001, batch_size='auto', beta_1=0.9,\n",
       "       beta_2=0.999, early_stopping=False, epsilon=1e-08,\n",
       "       hidden_layer_sizes=(100,), learning_rate='constant',\n",
       "       learning_rate_init=0.001, max_iter=200, momentum=0.9,\n",
       "       n_iter_no_change=10, nesterovs_momentum=True, power_t=0.5,\n",
       "       random_state=None, shuffle=True, solver='adam', tol=0.0001,\n",
       "       validation_fraction=0.1, verbose=False, warm_start=False),\n",
       "       fit_params=None, iid='warn', n_jobs=-1,\n",
       "       param_grid={'activation': ('logistic', 'relu'), 'hidden_layer_sizes': ((18, 30), (24, 30), (30, 30), (18, 28), (24, 28), (30, 28))},\n",
       "       pre_dispatch='2*n_jobs', refit=True, return_train_score='warn',\n",
       "       scoring=None, verbose=0)"
      ]
     },
     "execution_count": 140,
     "metadata": {},
     "output_type": "execute_result"
    }
   ],
   "source": [
    "from sklearn.model_selection import GridSearchCV\n",
    "\n",
    "train_length = 20000\n",
    "test_length = 1000\n",
    "\n",
    "parameters = {'activation':('logistic', 'relu'), 'hidden_layer_sizes':((18,30),(24,30),(30,30), (18,28),(24,28),(30,28))}\n",
    "mlp = MLPClassifier(max_iter=200)\n",
    "clf = GridSearchCV(mlp, parameters, n_jobs=-1, cv=5)\n",
    "\n",
    "clf.fit(X_train[:train_length], y_train[:train_length])\n"
   ]
  },
  {
   "cell_type": "code",
   "execution_count": 141,
   "metadata": {
    "collapsed": true,
    "jupyter": {
     "outputs_hidden": true
    }
   },
   "outputs": [
    {
     "name": "stderr",
     "output_type": "stream",
     "text": [
      "C:\\ProgramData\\Anaconda3\\lib\\site-packages\\sklearn\\utils\\deprecation.py:125: FutureWarning: You are accessing a training score ('split0_train_score'), which will not be available by default any more in 0.21. If you need training scores, please set return_train_score=True\n",
      "  warnings.warn(*warn_args, **warn_kwargs)\n",
      "C:\\ProgramData\\Anaconda3\\lib\\site-packages\\sklearn\\utils\\deprecation.py:125: FutureWarning: You are accessing a training score ('split1_train_score'), which will not be available by default any more in 0.21. If you need training scores, please set return_train_score=True\n",
      "  warnings.warn(*warn_args, **warn_kwargs)\n",
      "C:\\ProgramData\\Anaconda3\\lib\\site-packages\\sklearn\\utils\\deprecation.py:125: FutureWarning: You are accessing a training score ('split2_train_score'), which will not be available by default any more in 0.21. If you need training scores, please set return_train_score=True\n",
      "  warnings.warn(*warn_args, **warn_kwargs)\n",
      "C:\\ProgramData\\Anaconda3\\lib\\site-packages\\sklearn\\utils\\deprecation.py:125: FutureWarning: You are accessing a training score ('split3_train_score'), which will not be available by default any more in 0.21. If you need training scores, please set return_train_score=True\n",
      "  warnings.warn(*warn_args, **warn_kwargs)\n",
      "C:\\ProgramData\\Anaconda3\\lib\\site-packages\\sklearn\\utils\\deprecation.py:125: FutureWarning: You are accessing a training score ('split4_train_score'), which will not be available by default any more in 0.21. If you need training scores, please set return_train_score=True\n",
      "  warnings.warn(*warn_args, **warn_kwargs)\n",
      "C:\\ProgramData\\Anaconda3\\lib\\site-packages\\sklearn\\utils\\deprecation.py:125: FutureWarning: You are accessing a training score ('mean_train_score'), which will not be available by default any more in 0.21. If you need training scores, please set return_train_score=True\n",
      "  warnings.warn(*warn_args, **warn_kwargs)\n",
      "C:\\ProgramData\\Anaconda3\\lib\\site-packages\\sklearn\\utils\\deprecation.py:125: FutureWarning: You are accessing a training score ('std_train_score'), which will not be available by default any more in 0.21. If you need training scores, please set return_train_score=True\n",
      "  warnings.warn(*warn_args, **warn_kwargs)\n"
     ]
    },
    {
     "data": {
      "text/plain": [
       "{'mean_fit_time': array([102.1584702 ,  98.36205587, 104.84083319,  99.6859231 ,\n",
       "         97.76597848,  99.37345157,  87.00778489,  81.87143407,\n",
       "         86.03088822,  88.99717097,  94.59618611,  69.13071861]),\n",
       " 'std_fit_time': array([ 0.6538248 ,  7.6650371 ,  0.5287279 ,  0.44717807,  7.2603844 ,\n",
       "         7.30707587, 12.54637155, 19.65955311, 10.08080667, 10.70765811,\n",
       "        10.23645759, 15.11921269]),\n",
       " 'mean_score_time': array([0.05225348, 0.054741  , 0.05333114, 0.0503273 , 0.05511847,\n",
       "        0.05596828, 0.04907022, 0.0487072 , 0.04950075, 0.04900808,\n",
       "        0.04874964, 0.03437581]),\n",
       " 'std_score_time': array([0.00321432, 0.00430929, 0.0038725 , 0.00088073, 0.00484105,\n",
       "        0.00436606, 0.00327775, 0.00313215, 0.00342524, 0.00347262,\n",
       "        0.00170821, 0.00624757]),\n",
       " 'param_activation': masked_array(data=['logistic', 'logistic', 'logistic', 'logistic',\n",
       "                    'logistic', 'logistic', 'relu', 'relu', 'relu', 'relu',\n",
       "                    'relu', 'relu'],\n",
       "              mask=[False, False, False, False, False, False, False, False,\n",
       "                    False, False, False, False],\n",
       "        fill_value='?',\n",
       "             dtype=object),\n",
       " 'param_hidden_layer_sizes': masked_array(data=[(18, 30), (24, 30), (30, 30), (18, 28), (24, 28),\n",
       "                    (30, 28), (18, 30), (24, 30), (30, 30), (18, 28),\n",
       "                    (24, 28), (30, 28)],\n",
       "              mask=[False, False, False, False, False, False, False, False,\n",
       "                    False, False, False, False],\n",
       "        fill_value='?',\n",
       "             dtype=object),\n",
       " 'params': [{'activation': 'logistic', 'hidden_layer_sizes': (18, 30)},\n",
       "  {'activation': 'logistic', 'hidden_layer_sizes': (24, 30)},\n",
       "  {'activation': 'logistic', 'hidden_layer_sizes': (30, 30)},\n",
       "  {'activation': 'logistic', 'hidden_layer_sizes': (18, 28)},\n",
       "  {'activation': 'logistic', 'hidden_layer_sizes': (24, 28)},\n",
       "  {'activation': 'logistic', 'hidden_layer_sizes': (30, 28)},\n",
       "  {'activation': 'relu', 'hidden_layer_sizes': (18, 30)},\n",
       "  {'activation': 'relu', 'hidden_layer_sizes': (24, 30)},\n",
       "  {'activation': 'relu', 'hidden_layer_sizes': (30, 30)},\n",
       "  {'activation': 'relu', 'hidden_layer_sizes': (18, 28)},\n",
       "  {'activation': 'relu', 'hidden_layer_sizes': (24, 28)},\n",
       "  {'activation': 'relu', 'hidden_layer_sizes': (30, 28)}],\n",
       " 'split0_test_score': array([0.62466357, 0.62931245, 0.66405677, 0.60435527, 0.64741864,\n",
       "        0.67335454, 0.68020553, 0.66650355, 0.67555664, 0.66723758,\n",
       "        0.67457793, 0.66625887]),\n",
       " 'split1_test_score': array([0.66888889, 0.65185185, 0.67876543, 0.60320988, 0.63432099,\n",
       "        0.65753086, 0.67703704, 0.68074074, 0.68814815, 0.67802469,\n",
       "        0.68765432, 0.69432099]),\n",
       " 'split2_test_score': array([0.58364591, 0.63865966, 0.66266567, 0.58464616, 0.64291073,\n",
       "        0.6744186 , 0.66791698, 0.67591898, 0.68767192, 0.66466617,\n",
       "        0.6724181 , 0.68217054]),\n",
       " 'split3_test_score': array([0.6289181 , 0.63068756, 0.67669363, 0.63447927, 0.6627907 ,\n",
       "        0.66506572, 0.690091  , 0.70273003, 0.69615774, 0.67846309,\n",
       "        0.69034378, 0.690091  ]),\n",
       " 'split4_test_score': array([0.63050154, 0.64227226, 0.67093142, 0.61617195, 0.6486694 ,\n",
       "        0.67221085, 0.66171955, 0.67502559, 0.67374616, 0.66299898,\n",
       "        0.67425793, 0.67630502]),\n",
       " 'mean_test_score': array([0.6274 , 0.63855, 0.6706 , 0.60845, 0.64715, 0.6685 , 0.67545,\n",
       "        0.6801 , 0.68425, 0.6703 , 0.67985, 0.6818 ]),\n",
       " 'std_test_score': array([0.02711499, 0.00825864, 0.00649649, 0.01636913, 0.00926151,\n",
       "        0.00641941, 0.00978345, 0.01215252, 0.0083945 , 0.00662893,\n",
       "        0.00754649, 0.01003132]),\n",
       " 'rank_test_score': array([11, 10,  6, 12,  9,  8,  5,  3,  1,  7,  4,  2]),\n",
       " 'split0_train_score': array([0.66819581, 0.69345818, 0.72695281, 0.65575316, 0.69886257,\n",
       "        0.72519324, 0.76817696, 0.78439012, 0.79739835, 0.75755671,\n",
       "        0.77351851, 0.78841199]),\n",
       " 'split1_train_score': array([0.69128527, 0.69661442, 0.72394984, 0.63398119, 0.68338558,\n",
       "        0.70482759, 0.76407524, 0.77774295, 0.79184953, 0.76269592,\n",
       "        0.77855799, 0.77937304]),\n",
       " 'split2_train_score': array([0.62839823, 0.68601962, 0.71645522, 0.62321105, 0.6927692 ,\n",
       "        0.72382976, 0.7503906 , 0.75064058, 0.78107618, 0.74639085,\n",
       "        0.77413912, 0.76782701]),\n",
       " 'split3_train_score': array([0.65713039, 0.66635502, 0.71684119, 0.65588382, 0.68667415,\n",
       "        0.71254051, 0.76545749, 0.77250062, 0.78521566, 0.758726  ,\n",
       "        0.76963351, 0.78153827]),\n",
       " 'split4_train_score': array([0.68058663, 0.69879443, 0.73695004, 0.65088243, 0.70140442,\n",
       "        0.72588864, 0.7686428 , 0.77895849, 0.80182699, 0.75988069,\n",
       "        0.77976634, 0.79014417]),\n",
       " 'mean_train_score': array([0.66511926, 0.68824834, 0.72422982, 0.64394233, 0.69261918,\n",
       "        0.71845595, 0.76334862, 0.77284655, 0.79147334, 0.75705004,\n",
       "        0.77512309, 0.7814589 ]),\n",
       " 'std_train_score': array([0.02165927, 0.01176978, 0.007541  , 0.01310931, 0.00688165,\n",
       "        0.00836945, 0.00669667, 0.01172867, 0.0076119 , 0.00559594,\n",
       "        0.00366161, 0.0079242 ])}"
      ]
     },
     "execution_count": 141,
     "metadata": {},
     "output_type": "execute_result"
    }
   ],
   "source": [
    "clf.cv_results_"
   ]
  },
  {
   "cell_type": "code",
   "execution_count": 145,
   "metadata": {},
   "outputs": [
    {
     "data": {
      "text/plain": [
       "{'activation': 'relu', 'hidden_layer_sizes': (30, 30)}"
      ]
     },
     "execution_count": 145,
     "metadata": {},
     "output_type": "execute_result"
    }
   ],
   "source": [
    "clf.best_params_"
   ]
  },
  {
   "cell_type": "code",
   "execution_count": 147,
   "metadata": {},
   "outputs": [
    {
     "name": "stdout",
     "output_type": "stream",
     "text": [
      "accuracy = 0.698000\n"
     ]
    }
   ],
   "source": [
    "y_pred = clf.best_estimator_.predict(X_test[:test_length])\n",
    "print('accuracy = %f' % (sum(y_test[:test_length]==y_pred) / test_length))\n"
   ]
  },
  {
   "cell_type": "code",
   "execution_count": 148,
   "metadata": {
    "collapsed": true,
    "jupyter": {
     "outputs_hidden": true
    }
   },
   "outputs": [
    {
     "name": "stderr",
     "output_type": "stream",
     "text": [
      "C:\\ProgramData\\Anaconda3\\lib\\site-packages\\sklearn\\neural_network\\multilayer_perceptron.py:562: ConvergenceWarning: Stochastic Optimizer: Maximum iterations (200) reached and the optimization hasn't converged yet.\n",
      "  % self.max_iter, ConvergenceWarning)\n"
     ]
    },
    {
     "data": {
      "text/plain": [
       "GridSearchCV(cv=5, error_score='raise-deprecating',\n",
       "       estimator=MLPClassifier(activation='relu', alpha=0.0001, batch_size='auto', beta_1=0.9,\n",
       "       beta_2=0.999, early_stopping=False, epsilon=1e-08,\n",
       "       hidden_layer_sizes=(100,), learning_rate='constant',\n",
       "       learning_rate_init=0.001, max_iter=200, momentum=0.9,\n",
       "       n_iter_no_change=10, nesterovs_momentum=True, power_t=0.5,\n",
       "       random_state=None, shuffle=True, solver='adam', tol=0.0001,\n",
       "       validation_fraction=0.1, verbose=False, warm_start=False),\n",
       "       fit_params=None, iid='warn', n_jobs=-1,\n",
       "       param_grid={'hidden_layer_sizes': ((30, 30), (40, 30), (60, 30), (30, 40), (40, 40), (60, 40))},\n",
       "       pre_dispatch='2*n_jobs', refit=True, return_train_score='warn',\n",
       "       scoring=None, verbose=0)"
      ]
     },
     "execution_count": 148,
     "metadata": {},
     "output_type": "execute_result"
    }
   ],
   "source": [
    "from sklearn.model_selection import GridSearchCV\n",
    "\n",
    "train_length = 20000\n",
    "test_length = 1000\n",
    "\n",
    "parameters = {'hidden_layer_sizes':((30,30),(40,30),(60,30), (30,40),(40,40),(60,40))}\n",
    "mlp = MLPClassifier(max_iter=200)\n",
    "clf = GridSearchCV(mlp, parameters, n_jobs=-1, cv=5)\n",
    "\n",
    "clf.fit(X_train[:train_length], y_train[:train_length])\n"
   ]
  },
  {
   "cell_type": "code",
   "execution_count": 153,
   "metadata": {
    "collapsed": true,
    "jupyter": {
     "outputs_hidden": true
    }
   },
   "outputs": [
    {
     "name": "stderr",
     "output_type": "stream",
     "text": [
      "C:\\ProgramData\\Anaconda3\\lib\\site-packages\\sklearn\\utils\\deprecation.py:125: FutureWarning: You are accessing a training score ('split0_train_score'), which will not be available by default any more in 0.21. If you need training scores, please set return_train_score=True\n",
      "  warnings.warn(*warn_args, **warn_kwargs)\n",
      "C:\\ProgramData\\Anaconda3\\lib\\site-packages\\sklearn\\utils\\deprecation.py:125: FutureWarning: You are accessing a training score ('split1_train_score'), which will not be available by default any more in 0.21. If you need training scores, please set return_train_score=True\n",
      "  warnings.warn(*warn_args, **warn_kwargs)\n",
      "C:\\ProgramData\\Anaconda3\\lib\\site-packages\\sklearn\\utils\\deprecation.py:125: FutureWarning: You are accessing a training score ('split2_train_score'), which will not be available by default any more in 0.21. If you need training scores, please set return_train_score=True\n",
      "  warnings.warn(*warn_args, **warn_kwargs)\n",
      "C:\\ProgramData\\Anaconda3\\lib\\site-packages\\sklearn\\utils\\deprecation.py:125: FutureWarning: You are accessing a training score ('split3_train_score'), which will not be available by default any more in 0.21. If you need training scores, please set return_train_score=True\n",
      "  warnings.warn(*warn_args, **warn_kwargs)\n",
      "C:\\ProgramData\\Anaconda3\\lib\\site-packages\\sklearn\\utils\\deprecation.py:125: FutureWarning: You are accessing a training score ('split4_train_score'), which will not be available by default any more in 0.21. If you need training scores, please set return_train_score=True\n",
      "  warnings.warn(*warn_args, **warn_kwargs)\n",
      "C:\\ProgramData\\Anaconda3\\lib\\site-packages\\sklearn\\utils\\deprecation.py:125: FutureWarning: You are accessing a training score ('mean_train_score'), which will not be available by default any more in 0.21. If you need training scores, please set return_train_score=True\n",
      "  warnings.warn(*warn_args, **warn_kwargs)\n",
      "C:\\ProgramData\\Anaconda3\\lib\\site-packages\\sklearn\\utils\\deprecation.py:125: FutureWarning: You are accessing a training score ('std_train_score'), which will not be available by default any more in 0.21. If you need training scores, please set return_train_score=True\n",
      "  warnings.warn(*warn_args, **warn_kwargs)\n"
     ]
    },
    {
     "data": {
      "text/plain": [
       "{'mean_fit_time': array([ 95.26415172,  97.93745456, 104.18100877, 103.33856502,\n",
       "        108.00257888,  89.10769224]),\n",
       " 'std_fit_time': array([14.78132282, 13.96621989, 12.33600644,  5.97208427, 10.87426813,\n",
       "         8.01892185]),\n",
       " 'mean_score_time': array([0.05353107, 0.05233755, 0.05595126, 0.05436096, 0.05793548,\n",
       "        0.03125482]),\n",
       " 'std_score_time': array([7.26742435e-03, 3.22613714e-03, 4.34008301e-03, 4.41341115e-03,\n",
       "        7.66894591e-03, 1.19113884e-06]),\n",
       " 'param_hidden_layer_sizes': masked_array(data=[(30, 30), (40, 30), (60, 30), (30, 40), (40, 40),\n",
       "                    (60, 40)],\n",
       "              mask=[False, False, False, False, False, False],\n",
       "        fill_value='?',\n",
       "             dtype=object),\n",
       " 'params': [{'hidden_layer_sizes': (30, 30)},\n",
       "  {'hidden_layer_sizes': (40, 30)},\n",
       "  {'hidden_layer_sizes': (60, 30)},\n",
       "  {'hidden_layer_sizes': (30, 40)},\n",
       "  {'hidden_layer_sizes': (40, 40)},\n",
       "  {'hidden_layer_sizes': (60, 40)}],\n",
       " 'split0_test_score': array([0.6682163 , 0.66307805, 0.67237583, 0.66846097, 0.67237583,\n",
       "        0.67653536]),\n",
       " 'split1_test_score': array([0.68493827, 0.6817284 , 0.68790123, 0.6854321 , 0.68197531,\n",
       "        0.68296296]),\n",
       " 'split2_test_score': array([0.67791948, 0.67516879, 0.68317079, 0.67866967, 0.66766692,\n",
       "        0.67466867]),\n",
       " 'split3_test_score': array([0.68806876, 0.69160768, 0.68604651, 0.67947422, 0.68731041,\n",
       "        0.69287159]),\n",
       " 'split4_test_score': array([0.67016377, 0.67528147, 0.67630502, 0.65788127, 0.67246673,\n",
       "        0.67784033]),\n",
       " 'mean_test_score': array([0.67785, 0.6773 , 0.68115, 0.67405, 0.67635, 0.68095]),\n",
       " 'std_test_score': array([0.00783195, 0.00935413, 0.00592517, 0.0096844 , 0.00717072,\n",
       "        0.00653406]),\n",
       " 'rank_test_score': array([3, 4, 1, 6, 5, 2]),\n",
       " 'split0_train_score': array([0.79463332, 0.81461698, 0.82768805, 0.82423176, 0.84383837,\n",
       "        0.86281657]),\n",
       " 'split1_train_score': array([0.79322884, 0.80288401, 0.82714734, 0.82438871, 0.83893417,\n",
       "        0.85981191]),\n",
       " 'split2_train_score': array([0.77145178, 0.79657521, 0.81513655, 0.81332417, 0.81307418,\n",
       "        0.85907131]),\n",
       " 'split3_train_score': array([0.77586637, 0.80709299, 0.82460733, 0.81201695, 0.83308402,\n",
       "        0.85845176]),\n",
       " 'split4_train_score': array([0.78666418, 0.81487696, 0.82885906, 0.81295053, 0.82910763,\n",
       "        0.86104897]),\n",
       " 'mean_train_score': array([0.7843689 , 0.80720923, 0.82468767, 0.81738243, 0.83160767,\n",
       "        0.8602401 ]),\n",
       " 'std_train_score': array([0.00925495, 0.00700674, 0.00497359, 0.00567276, 0.01053743,\n",
       "        0.00155177])}"
      ]
     },
     "execution_count": 153,
     "metadata": {},
     "output_type": "execute_result"
    }
   ],
   "source": [
    "clf.cv_results_"
   ]
  },
  {
   "cell_type": "code",
   "execution_count": 152,
   "metadata": {
    "collapsed": true,
    "jupyter": {
     "outputs_hidden": true
    }
   },
   "outputs": [
    {
     "name": "stdout",
     "output_type": "stream",
     "text": [
      "{'mean_fit_time': array([ 95.26415172,  97.93745456, 104.18100877, 103.33856502,\n",
      "       108.00257888,  89.10769224]), 'std_fit_time': array([14.78132282, 13.96621989, 12.33600644,  5.97208427, 10.87426813,\n",
      "        8.01892185]), 'mean_score_time': array([0.05353107, 0.05233755, 0.05595126, 0.05436096, 0.05793548,\n",
      "       0.03125482]), 'std_score_time': array([7.26742435e-03, 3.22613714e-03, 4.34008301e-03, 4.41341115e-03,\n",
      "       7.66894591e-03, 1.19113884e-06]), 'param_hidden_layer_sizes': masked_array(data=[(30, 30), (40, 30), (60, 30), (30, 40), (40, 40),\n",
      "                   (60, 40)],\n",
      "             mask=[False, False, False, False, False, False],\n",
      "       fill_value='?',\n",
      "            dtype=object), 'params': [{'hidden_layer_sizes': (30, 30)}, {'hidden_layer_sizes': (40, 30)}, {'hidden_layer_sizes': (60, 30)}, {'hidden_layer_sizes': (30, 40)}, {'hidden_layer_sizes': (40, 40)}, {'hidden_layer_sizes': (60, 40)}], 'split0_test_score': array([0.6682163 , 0.66307805, 0.67237583, 0.66846097, 0.67237583,\n",
      "       0.67653536]), 'split1_test_score': array([0.68493827, 0.6817284 , 0.68790123, 0.6854321 , 0.68197531,\n",
      "       0.68296296]), 'split2_test_score': array([0.67791948, 0.67516879, 0.68317079, 0.67866967, 0.66766692,\n",
      "       0.67466867]), 'split3_test_score': array([0.68806876, 0.69160768, 0.68604651, 0.67947422, 0.68731041,\n",
      "       0.69287159]), 'split4_test_score': array([0.67016377, 0.67528147, 0.67630502, 0.65788127, 0.67246673,\n",
      "       0.67784033]), 'mean_test_score': array([0.67785, 0.6773 , 0.68115, 0.67405, 0.67635, 0.68095]), 'std_test_score': array([0.00783195, 0.00935413, 0.00592517, 0.0096844 , 0.00717072,\n",
      "       0.00653406]), 'rank_test_score': array([3, 4, 1, 6, 5, 2]), 'split0_train_score': array([0.79463332, 0.81461698, 0.82768805, 0.82423176, 0.84383837,\n",
      "       0.86281657]), 'split1_train_score': array([0.79322884, 0.80288401, 0.82714734, 0.82438871, 0.83893417,\n",
      "       0.85981191]), 'split2_train_score': array([0.77145178, 0.79657521, 0.81513655, 0.81332417, 0.81307418,\n",
      "       0.85907131]), 'split3_train_score': array([0.77586637, 0.80709299, 0.82460733, 0.81201695, 0.83308402,\n",
      "       0.85845176]), 'split4_train_score': array([0.78666418, 0.81487696, 0.82885906, 0.81295053, 0.82910763,\n",
      "       0.86104897]), 'mean_train_score': array([0.7843689 , 0.80720923, 0.82468767, 0.81738243, 0.83160767,\n",
      "       0.8602401 ]), 'std_train_score': array([0.00925495, 0.00700674, 0.00497359, 0.00567276, 0.01053743,\n",
      "       0.00155177])}\n",
      "{'hidden_layer_sizes': (60, 30)}\n"
     ]
    }
   ],
   "source": [
    "print(clf.best_params_)"
   ]
  },
  {
   "cell_type": "code",
   "execution_count": 154,
   "metadata": {},
   "outputs": [
    {
     "name": "stdout",
     "output_type": "stream",
     "text": [
      "accuracy = 0.708000\n"
     ]
    }
   ],
   "source": [
    "y_pred = clf.best_estimator_.predict(X_test[:test_length])\n",
    "print('accuracy = %f' % (sum(y_test[:test_length]==y_pred) / test_length))\n"
   ]
  },
  {
   "cell_type": "code",
   "execution_count": 155,
   "metadata": {
    "collapsed": true,
    "jupyter": {
     "outputs_hidden": true
    }
   },
   "outputs": [
    {
     "name": "stderr",
     "output_type": "stream",
     "text": [
      "C:\\ProgramData\\Anaconda3\\lib\\site-packages\\sklearn\\neural_network\\multilayer_perceptron.py:562: ConvergenceWarning: Stochastic Optimizer: Maximum iterations (200) reached and the optimization hasn't converged yet.\n",
      "  % self.max_iter, ConvergenceWarning)\n"
     ]
    },
    {
     "data": {
      "text/plain": [
       "GridSearchCV(cv=5, error_score='raise-deprecating',\n",
       "       estimator=MLPClassifier(activation='relu', alpha=0.0001, batch_size='auto', beta_1=0.9,\n",
       "       beta_2=0.999, early_stopping=False, epsilon=1e-08,\n",
       "       hidden_layer_sizes=(100,), learning_rate='constant',\n",
       "       learning_rate_init=0.001, max_iter=200, momentum=0.9,\n",
       "       n_iter_no_change=10, nesterovs_momentum=True, power_t=0.5,\n",
       "       random_state=None, shuffle=True, solver='adam', tol=0.0001,\n",
       "       validation_fraction=0.1, verbose=False, warm_start=False),\n",
       "       fit_params=None, iid='warn', n_jobs=-1,\n",
       "       param_grid={'hidden_layer_sizes': ((60, 30), (90, 30), (120, 30), (150, 30))},\n",
       "       pre_dispatch='2*n_jobs', refit=True, return_train_score='warn',\n",
       "       scoring=None, verbose=0)"
      ]
     },
     "execution_count": 155,
     "metadata": {},
     "output_type": "execute_result"
    }
   ],
   "source": [
    "from sklearn.model_selection import GridSearchCV\n",
    "\n",
    "train_length = 20000\n",
    "test_length = 1000\n",
    "\n",
    "parameters = {'hidden_layer_sizes':((60,30),(90,30),(120,30),(150,30))}\n",
    "mlp = MLPClassifier(max_iter=200)\n",
    "clf = GridSearchCV(mlp, parameters, n_jobs=-1, cv=5)\n",
    "\n",
    "clf.fit(X_train[:train_length], y_train[:train_length])"
   ]
  },
  {
   "cell_type": "code",
   "execution_count": 157,
   "metadata": {},
   "outputs": [
    {
     "name": "stdout",
     "output_type": "stream",
     "text": [
      "{'hidden_layer_sizes': (120, 30)}\n"
     ]
    }
   ],
   "source": [
    "print(clf.best_params_)"
   ]
  },
  {
   "cell_type": "code",
   "execution_count": 158,
   "metadata": {},
   "outputs": [
    {
     "name": "stdout",
     "output_type": "stream",
     "text": [
      "accuracy = 0.708000\n"
     ]
    }
   ],
   "source": [
    "y_pred = clf.best_estimator_.predict(X_test[:test_length])\n",
    "print('accuracy = %f' % (sum(y_test[:test_length]==y_pred) / test_length))\n"
   ]
  },
  {
   "cell_type": "markdown",
   "metadata": {},
   "source": [
    "* <b>Best params: 'relu', hidden layers (120,30)</b>"
   ]
  },
  {
   "cell_type": "markdown",
   "metadata": {},
   "source": [
    "##### 8.1.3 compare the training data set length"
   ]
  },
  {
   "cell_type": "code",
   "execution_count": 189,
   "metadata": {},
   "outputs": [
    {
     "name": "stdout",
     "output_type": "stream",
     "text": [
      "accuracy = 0.669600, proc_time = 28.483763\n",
      "accuracy = 0.681800, proc_time = 74.995822\n",
      "accuracy = 0.713200, proc_time = 115.991215\n",
      "accuracy = 0.733900, proc_time = 284.612884\n",
      "accuracy = 0.748100, proc_time = 478.281921\n"
     ]
    }
   ],
   "source": [
    "\n",
    "train_length = [10000, 20000, 50000, 100000, 200000]\n",
    "test_length = 10000\n",
    "\n",
    "mlp = MLPClassifier(hidden_layer_sizes=(120,30), activation='relu', max_iter=1000, warm_start=False)\n",
    "accuracy = []\n",
    "proc_time = []\n",
    "\n",
    "for train_len in train_length:\n",
    "    t0 = time.time()\n",
    "    mlp.fit(X_train[:train_len],y_train[:train_len])\n",
    "    y_pred = mlp.predict(X_test[:test_length])\n",
    "    accu= sum(y_test[:test_length]==y_pred) / test_length\n",
    "    t1 = time.time()\n",
    "    accuracy.append(accu)\n",
    "    proc_time.append(t1-t0)\n",
    "    print('accuracy = %f, proc_time = %f' % (accu, t1-t0))\n",
    "        "
   ]
  },
  {
   "cell_type": "code",
   "execution_count": 190,
   "metadata": {},
   "outputs": [
    {
     "data": {
      "text/plain": [
       "Text(0, 0.5, 'Proc time (s)')"
      ]
     },
     "execution_count": 190,
     "metadata": {},
     "output_type": "execute_result"
    },
    {
     "data": {
      "image/png": "[encoded data removed]",
      "text/plain": [
       "<Figure size 432x288 with 2 Axes>"
      ]
     },
     "metadata": {
      "needs_background": "light"
     },
     "output_type": "display_data"
    }
   ],
   "source": [
    "fig, ax = plt.subplots(1,1, figsize=(6,4))\n",
    "fig.suptitle('MLP')\n",
    "\n",
    "color1 = 'tab:red'\n",
    "l1 = ax.plot(train_length, accuracy, 'o-', color=color1)\n",
    "ax.set_xlabel('Fitting data length')\n",
    "ax.set_ylabel('Accuracy')\n",
    "ax.tick_params(axis='y', labelcolor=color1)\n",
    "ax.legend( l1, ['Accuracy'], loc='upper left', shadow=True)\n",
    "\n",
    "color2 = 'tab:blue'\n",
    "ax2 = ax.twinx()\n",
    "l2 = ax2.plot(train_length, proc_time,'s-', color=color2)\n",
    "ax2.legend( l2, ['Proc time'], loc='lower right', shadow=True)\n",
    "ax2.tick_params(axis='y', labelcolor=color2)\n",
    "ax2.set_ylabel('Proc time (s)')\n",
    "\n",
    "plt.savefig(\".\\\\figs2\\\\MLP_accu,time_vs_data_length2.png\", dpi=300)\n"
   ]
  },
  {
   "cell_type": "code",
   "execution_count": 193,
   "metadata": {},
   "outputs": [
    {
     "name": "stdout",
     "output_type": "stream",
     "text": [
      "accuracy = 0.754761, proc_time = 2727.836644\n"
     ]
    }
   ],
   "source": [
    "# using full training set and testing set\n",
    "\n",
    "t0 = time.time()\n",
    "mlp.fit(X_train,y_train)\n",
    "y_pred = mlp.predict(X_test)\n",
    "accu= sum(y_test==y_pred) / y_test.shape\n",
    "t1 = time.time()\n",
    "print('accuracy = %f, proc_time = %f' % (accu, t1-t0))\n"
   ]
  },
  {
   "cell_type": "code",
   "execution_count": 195,
   "metadata": {},
   "outputs": [],
   "source": [
    "import pickle\n",
    "\n",
    "filename = './models/MLP_relu_120,30_iter1000_fulltraining.pkl'\n",
    "datafile = open(filename,'wb')\n",
    "pickle.dump(mlp, datafile)\n",
    "datafile.close()\n"
   ]
  },
  {
   "cell_type": "code",
   "execution_count": 196,
   "metadata": {},
   "outputs": [
    {
     "data": {
      "text/plain": [
       "0.7588428639140277"
      ]
     },
     "execution_count": 196,
     "metadata": {},
     "output_type": "execute_result"
    }
   ],
   "source": [
    "mlp.score(X_train,y_train)"
   ]
  },
  {
   "cell_type": "code",
   "execution_count": 197,
   "metadata": {},
   "outputs": [
    {
     "data": {
      "text/plain": [
       "0.7547608606094434"
      ]
     },
     "execution_count": 197,
     "metadata": {},
     "output_type": "execute_result"
    }
   ],
   "source": [
    "mlp.score(X_test,y_test)"
   ]
  },
  {
   "cell_type": "markdown",
   "metadata": {},
   "source": [
    "#####  \n",
    "##### 8.1.4 What if using only one hidden layer?"
   ]
  },
  {
   "cell_type": "code",
   "execution_count": null,
   "metadata": {},
   "outputs": [
    {
     "name": "stderr",
     "output_type": "stream",
     "text": [
      "C:\\ProgramData\\Anaconda3\\lib\\site-packages\\sklearn\\neural_network\\multilayer_perceptron.py:564: UserWarning: Training interrupted by user.\n",
      "  warnings.warn(\"Training interrupted by user.\")\n"
     ]
    },
    {
     "name": "stdout",
     "output_type": "stream",
     "text": [
      "accuracy = 0.666600, proc_time = 25.986786\n"
     ]
    },
    {
     "name": "stderr",
     "output_type": "stream",
     "text": [
      "C:\\ProgramData\\Anaconda3\\lib\\site-packages\\sklearn\\neural_network\\multilayer_perceptron.py:564: UserWarning: Training interrupted by user.\n",
      "  warnings.warn(\"Training interrupted by user.\")\n"
     ]
    },
    {
     "name": "stdout",
     "output_type": "stream",
     "text": [
      "accuracy = 0.680000, proc_time = 61.732107\n",
      "accuracy = 0.707900, proc_time = 119.200347\n"
     ]
    },
    {
     "name": "stderr",
     "output_type": "stream",
     "text": [
      "C:\\ProgramData\\Anaconda3\\lib\\site-packages\\sklearn\\neural_network\\multilayer_perceptron.py:564: UserWarning: Training interrupted by user.\n",
      "  warnings.warn(\"Training interrupted by user.\")\n"
     ]
    },
    {
     "name": "stdout",
     "output_type": "stream",
     "text": [
      "accuracy = 0.717100, proc_time = 274.932041\n"
     ]
    }
   ],
   "source": [
    "\n",
    "train_length = [10000, 20000, 50000, 100000, 200000]\n",
    "test_length = 10000\n",
    "\n",
    "mlp1 = MLPClassifier(hidden_layer_sizes=(120), activation='relu', max_iter=1000, warm_start=False)\n",
    "accuracy = []\n",
    "proc_time = []\n",
    "\n",
    "for train_len in train_length:\n",
    "    t0 = time.time()\n",
    "    mlp1.fit(X_train[:train_len],y_train[:train_len])\n",
    "    y_pred = mlp1.predict(X_test[:test_length])\n",
    "    accu= sum(y_test[:test_length]==y_pred) / test_length\n",
    "    t1 = time.time()\n",
    "    accuracy.append(accu)\n",
    "    proc_time.append(t1-t0)\n",
    "    print('accuracy = %f, \n",
    "          proc_time = %f' % (accu, t1-t0))\n",
    "        "
   ]
  },
  {
   "cell_type": "markdown",
   "metadata": {},
   "source": [
    "* <b>Accuracy with one hidden layer is slightly worse than that with two hidden layers, and the processing time of one hidden layer is similar to that with two hidden layers.</b>"
   ]
  },
  {
   "cell_type": "markdown",
   "metadata": {},
   "source": [
    "####  \n",
    "#### 8.2 pixel discrimination using ANN algorithm from keras"
   ]
  },
  {
   "cell_type": "code",
   "execution_count": 7,
   "metadata": {},
   "outputs": [
    {
     "name": "stderr",
     "output_type": "stream",
     "text": [
      "Using TensorFlow backend.\n"
     ]
    }
   ],
   "source": [
    "from keras.models import Sequential\n",
    "from keras.layers import Dense, Activation\n",
    "from keras.utils import np_utils\n",
    "import keras"
   ]
  },
  {
   "cell_type": "code",
   "execution_count": 17,
   "metadata": {},
   "outputs": [],
   "source": [
    "#del model\n",
    "\n",
    "def relu1 (x): \n",
    "    return keras.activations.relu(x, max_value=10.)\n",
    "\n",
    "model  = Sequential()\n",
    "\n",
    "# input layer\n",
    "model.add(Dense(36, activation=relu1, input_shape=(36,)))\n",
    "\n",
    "# hidden layer\n",
    "model.add(Dense(120, activation=relu1))\n",
    "\n",
    "# hidden lyaer (output layer, 15 x and 15 y)\n",
    "model.add(Dense(30, activation=relu1))\n",
    "\n",
    "# output layer (pixel index 15 by 15 = 225)\n",
    "model.add(Dense(225, activation='sigmoid'))\n"
   ]
  },
  {
   "cell_type": "code",
   "execution_count": 18,
   "metadata": {},
   "outputs": [],
   "source": [
    "model.compile(loss='categorical_crossentropy', optimizer='adam', metrics=['accuracy'])\n",
    "\n",
    "#model.compile(loss='mean_absolute_error', optimizer='sgd', metrics=['accuracy'])"
   ]
  },
  {
   "cell_type": "code",
   "execution_count": 19,
   "metadata": {},
   "outputs": [],
   "source": [
    "y_train1 = np_utils.to_categorical(y_train, 225)\n",
    "y_test1 = np_utils.to_categorical(y_test, 225)"
   ]
  },
  {
   "cell_type": "code",
   "execution_count": 24,
   "metadata": {},
   "outputs": [
    {
     "name": "stdout",
     "output_type": "stream",
     "text": [
      "Epoch 1/1\n",
      "902988/902988 [==============================] - 33s 37us/step - loss: 1.0694 - acc: 0.7098\n",
      "1000/1000 [==============================] - 0s 20us/step\n",
      "accuracy = 0.739000, proc_time = 33.394866\n"
     ]
    }
   ],
   "source": [
    "#train_length = [10000, 20000, 50000, 100000, 200000]\n",
    "#train_length = [100000]\n",
    "train_length = [X_train.size]\n",
    "test_length = 1000\n",
    "\n",
    "accuracy = []\n",
    "proc_time = []\n",
    "\n",
    "for train_len in train_length:\n",
    "    t0 = time.time()\n",
    "    model.fit(X_train[:train_len],y_train1[:train_len], batch_size=64,  epochs=1)\n",
    "    score = model.evaluate(X_test[:test_length], y_test1[:test_length], batch_size=64)\n",
    "    t1 = time.time()\n",
    "    accuracy.append(score)\n",
    "    proc_time.append(t1-t0)\n",
    "    print('accuracy = %f, proc_time = %f' % (score[1], t1-t0))\n",
    "    "
   ]
  },
  {
   "cell_type": "code",
   "execution_count": 25,
   "metadata": {},
   "outputs": [
    {
     "name": "stdout",
     "output_type": "stream",
     "text": [
      "225747/225747 [==============================] - 3s 14us/step\n",
      "accuracy = 0.709312, proc_time = 3.234628\n"
     ]
    }
   ],
   "source": [
    "t0 = time.time()\n",
    "score = model.evaluate(X_test, y_test1, batch_size=64)\n",
    "t1 = time.time()\n",
    "proc_time.append(t1-t0)\n",
    "print('accuracy = %f, proc_time = %f' % (score[1], t1-t0))\n"
   ]
  },
  {
   "cell_type": "markdown",
   "metadata": {},
   "source": [
    "* <b>Using default setup of 'ReLU', the loss function could reach 'nan' after certain computations. Therefore, we need to modify the default ReLU function and limit the maxvalue of the ReLU function.</b>\n"
   ]
  },
  {
   "cell_type": "markdown",
   "metadata": {},
   "source": [
    "###  \n",
    "### Conclusion \n",
    "***"
   ]
  },
  {
   "cell_type": "markdown",
   "metadata": {},
   "source": [
    "* <b>Using Sklearn MLP classifier with the optimized parameters obtained through grid search, the model is trained with all the training data set. The accuracy with the full testing data set is 0.754761 after 2727 secconds fo processing time.</b>  \n",
    "  * Parameters of the MLP model: hidden_layer_sizes=(120,30), activation='relu', max_iter=1000\n",
    "* <b>Using Keras ANN library, the accuracy is 0.7037 after one epoch.</b>"
   ]
  },
  {
   "cell_type": "code",
   "execution_count": null,
   "metadata": {},
   "outputs": [],
   "source": []
  }
 ],
 "metadata": {
  "kernelspec": {
   "display_name": "Python 3",
   "language": "python",
   "name": "python3"
  },
  "language_info": {
   "codemirror_mode": {
    "name": "ipython",
    "version": 3
   },
   "file_extension": ".py",
   "mimetype": "text/x-python",
   "name": "python",
   "nbconvert_exporter": "python",
   "pygments_lexer": "ipython3",
   "version": "3.7.6"
  }
 },
 "nbformat": 4,
 "nbformat_minor": 4
}

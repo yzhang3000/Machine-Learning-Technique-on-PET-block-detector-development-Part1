{
 "cells": [
  {
   "cell_type": "markdown",
   "metadata": {},
   "source": [
    "# Machine Learning technique on PET block detector development - Part 3\n",
    "\n",
    "## Crystal/Pixel discrimination for DQS PET block detector using Machine Learning techniques (v1.0, 2019-09)   \n",
    "## (Continued from Part 2.)\n",
    "---\n"
   ]
  },
  {
   "cell_type": "markdown",
   "metadata": {},
   "source": [
    "###  \n",
    "### 6. Scintillator/Pixel discrimination using ML algorithms - Part II, classification algorithms"
   ]
  },
  {
   "cell_type": "code",
   "execution_count": 1,
   "metadata": {},
   "outputs": [],
   "source": [
    "# load libraries\n",
    "\n",
    "import uproot\n",
    "import numpy as np\n",
    "import pandas as pd\n",
    "import matplotlib.pyplot as plt\n",
    "import matplotlib as mpl\n",
    "# %matplotlib qt\n",
    "%matplotlib inline\n",
    "# %matplotlib notebook\n",
    "\n",
    "import pickle\n",
    "from sklearn.externals import joblib\n",
    "import time\n",
    "\n",
    "plt.rcParams['figure.dpi'] = 120 # default is 72"
   ]
  },
  {
   "cell_type": "code",
   "execution_count": null,
   "metadata": {},
   "outputs": [],
   "source": [
    "# re-load data\n",
    "\n",
    "file = \"D:\\\\ML on PET block\\\\new_concept_block_lso\\\\new_concept_block_15x15\\\\results\\\\ML_data\\\\new_concept_block_15x15_sorted_events1.csv\"\n",
    "df0 = pd.read_csv (file, comment='#')\n",
    "\n",
    "X = df0.iloc[:,4:].values\n",
    "decoding = df0.iloc[:,0:4].values\n",
    "\n",
    "E_top = X[:,0:18]\n",
    "E_bottom = X[:,18:36]\n",
    "\n",
    "E_x1 = E_top[:, 0:18:2]\n",
    "E_x2 = E_top[:, 18:0:-2]\n",
    "\n",
    "E_y1 = E_bottom[:, 0:18:2]\n",
    "E_y2 = E_bottom[:, 18:0:-2]\n",
    "\n",
    "E_left = np.sum(E_x1, axis = 1)\n",
    "E_right = np.sum(E_x2, axis = 1)\n",
    "\n",
    "E_front = np.sum(E_y1, axis = 1)\n",
    "E_back = np.sum(E_y2, axis = 1)\n"
   ]
  },
  {
   "cell_type": "code",
   "execution_count": 3,
   "metadata": {},
   "outputs": [],
   "source": [
    "infile = open('./pickle/temp_data1','rb')\n",
    "x_t, y_t, x_b, y_b, x_a, y_a, x_g, y_g, x_c, y_c, index_train, index_test = pickle.load(infile)\n",
    "infile.close()\n"
   ]
  },
  {
   "cell_type": "code",
   "execution_count": 4,
   "metadata": {},
   "outputs": [
    {
     "data": {
      "text/plain": [
       "array([0.64327485, 0.83098592, 0.21714286, ..., 0.14772727, 0.56441718,\n",
       "       0.01735358])"
      ]
     },
     "execution_count": 4,
     "metadata": {},
     "output_type": "execute_result"
    }
   ],
   "source": [
    "# pixel_xy = np.array(df0['index_y'] * 15 + df0['index_x'])\n",
    "pixel_x = np.array(df0['index_x'])\n",
    "pixel_y = np.array(df0['index_y'])\n",
    "pixel_xy = pixel_y * 15 + pixel_x\n",
    "\n",
    "pixel_x_train = pixel_x[index_train]\n",
    "pixel_y_train = pixel_y[index_train]\n",
    "pixel_xy_train = pixel_xy[index_train]\n",
    "\n",
    "pixel_x_test = pixel_x[index_test]\n",
    "pixel_y_test = pixel_y[index_test]\n",
    "pixel_xy_test = pixel_xy[index_test]\n"
   ]
  },
  {
   "cell_type": "code",
   "execution_count": 5,
   "metadata": {},
   "outputs": [
    {
     "data": {
      "text/plain": [
       "array([427302, 747975, 468678, ..., 963395, 117952, 305711])"
      ]
     },
     "execution_count": 5,
     "metadata": {},
     "output_type": "execute_result"
    }
   ],
   "source": [
    "index_train"
   ]
  },
  {
   "cell_type": "code",
   "execution_count": null,
   "metadata": {},
   "outputs": [],
   "source": []
  }
 ],
 "metadata": {
  "kernelspec": {
   "display_name": "Python 3",
   "language": "python",
   "name": "python3"
  },
  "language_info": {
   "codemirror_mode": {
    "name": "ipython",
    "version": 3
   },
   "file_extension": ".py",
   "mimetype": "text/x-python",
   "name": "python",
   "nbconvert_exporter": "python",
   "pygments_lexer": "ipython3",
   "version": "3.7.1"
  }
 },
 "nbformat": 4,
 "nbformat_minor": 2
}

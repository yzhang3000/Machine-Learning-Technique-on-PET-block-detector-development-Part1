{
 "cells": [
  {
   "cell_type": "code",
   "execution_count": 9,
   "metadata": {},
   "outputs": [],
   "source": [
    "import matplotlib.pyplot as plt\n",
    "%matplotlib inline"
   ]
  },
  {
   "cell_type": "code",
   "execution_count": 10,
   "metadata": {},
   "outputs": [],
   "source": [
    "plt.rcParams['figure.dpi'] = 150 # default is 72"
   ]
  },
  {
   "cell_type": "code",
   "execution_count": 26,
   "metadata": {},
   "outputs": [],
   "source": [
    "import numpy as np\n",
    "import pickle\n",
    "from sklearn.externals import joblib \n",
    "from sklearn.cluster import KMeans"
   ]
  },
  {
   "cell_type": "code",
   "execution_count": 3,
   "metadata": {},
   "outputs": [],
   "source": [
    "with open('.//models//kmeans1.pkl', 'rb') as fin:\n",
    "    kmeans1a = pickle.load(fin)"
   ]
  },
  {
   "cell_type": "code",
   "execution_count": 4,
   "metadata": {},
   "outputs": [],
   "source": [
    "kmeans1b = joblib.load('.//models//kmeans1.pkl')"
   ]
  },
  {
   "cell_type": "code",
   "execution_count": 5,
   "metadata": {},
   "outputs": [
    {
     "data": {
      "text/plain": [
       "KMeans(algorithm='auto', copy_x=True, init='k-means++', max_iter=300,\n",
       "    n_clusters=256, n_init=10, n_jobs=None, precompute_distances='auto',\n",
       "    random_state=1, tol=0.0001, verbose=0)"
      ]
     },
     "execution_count": 5,
     "metadata": {},
     "output_type": "execute_result"
    }
   ],
   "source": [
    "kmeans1a"
   ]
  },
  {
   "cell_type": "code",
   "execution_count": 6,
   "metadata": {},
   "outputs": [
    {
     "data": {
      "text/plain": [
       "KMeans(algorithm='auto', copy_x=True, init='k-means++', max_iter=300,\n",
       "    n_clusters=256, n_init=10, n_jobs=None, precompute_distances='auto',\n",
       "    random_state=1, tol=0.0001, verbose=0)"
      ]
     },
     "execution_count": 6,
     "metadata": {},
     "output_type": "execute_result"
    }
   ],
   "source": [
    "kmeans1b"
   ]
  },
  {
   "cell_type": "code",
   "execution_count": 7,
   "metadata": {},
   "outputs": [],
   "source": [
    "with open('.//models//fit_input.pkl', 'rb') as fin:\n",
    "    fit_input = pickle.load(fin)"
   ]
  },
  {
   "cell_type": "code",
   "execution_count": 20,
   "metadata": {},
   "outputs": [],
   "source": [
    "lut_kmeans1a = kmeans1a.predict(fit_input).reshape((512,512))\n",
    "lut_kmeans1b = kmeans1b.predict(fit_input).reshape((512,512))"
   ]
  },
  {
   "cell_type": "code",
   "execution_count": 21,
   "metadata": {},
   "outputs": [
    {
     "data": {
      "text/plain": [
       "<matplotlib.image.AxesImage at 0x1bb80635dd8>"
      ]
     },
     "execution_count": 21,
     "metadata": {},
     "output_type": "execute_result"
    },
    {
     "data": {
      "image/png": "[encoded data removed]",
      "text/plain": [
       "<Figure size 900x600 with 2 Axes>"
      ]
     },
     "metadata": {
      "needs_background": "light"
     },
     "output_type": "display_data"
    }
   ],
   "source": [
    "fig, axis = plt.subplots(1,2)\n",
    "\n",
    "axis[0].imshow(lut_kmeans1a, cmap='prism')\n",
    "axis[1].imshow(lut_kmeans1b, cmap='prism')\n",
    "\n",
    "\n",
    "# axis[1].imshow(histgram2d, vmax=600, cmap='jet')\n",
    "# axis[1].imshow(generate_grid(lut_kmeans1), cmap='gray', alpha=0.4)\n",
    "# plt.savefig(\"kmeans1_from_raw_events.png\", dpi=300)\n"
   ]
  },
  {
   "cell_type": "code",
   "execution_count": 31,
   "metadata": {},
   "outputs": [],
   "source": [
    "\n",
    "# FLAG_LOAD = False\n",
    "\n",
    "# if FLAG_LOAD:\n",
    "#     with open('.//models//kmeans2.pkl', 'rb') as fin:\n",
    "#         kmeans2 = pickle.load(fin)\n",
    "# else:\n",
    "#     kmeans2 = KMeans(n_clusters = 4, init = 'k-means++', random_state = 1)\n",
    "#     kmeans2.fit([[1,2],[2,3],[3,3],[1,3]])\n",
    "\n",
    "#     # save trained model to a file\n",
    "#     with open('.//models//kmeans2.pkl', 'wb') as fout:\n",
    "#         pickle.dump(kmeans2, fout)\n",
    "\n"
   ]
  },
  {
   "cell_type": "code",
   "execution_count": 32,
   "metadata": {},
   "outputs": [
    {
     "data": {
      "text/plain": [
       "KMeans(algorithm='auto', copy_x=True, init='k-means++', max_iter=300,\n",
       "    n_clusters=256, n_init=10, n_jobs=None, precompute_distances='auto',\n",
       "    random_state=1, tol=0.0001, verbose=0)"
      ]
     },
     "execution_count": 32,
     "metadata": {},
     "output_type": "execute_result"
    }
   ],
   "source": [
    "kmeans1"
   ]
  },
  {
   "cell_type": "code",
   "execution_count": 50,
   "metadata": {},
   "outputs": [],
   "source": [
    "fig, axis = plt.subplots(1,2)\n",
    "\n",
    "axis[0].imshow(lut_kmeans1a, cmap='prism')\n",
    "axis[1].imshow(lut_kmeans1b, cmap='prism')\n",
    "\n",
    "pos = []\n",
    "\n",
    "def onclick(event):\n",
    "    pos.append([event.xdata, event.ydata])\n",
    "    \n",
    "fig.canvas.mpl_connect('button_press_event', onclick)\n",
    "fig.show()\n"
   ]
  },
  {
   "cell_type": "code",
   "execution_count": 49,
   "metadata": {},
   "outputs": [],
   "source": [
    "%matplotlib qt"
   ]
  },
  {
   "cell_type": "code",
   "execution_count": 46,
   "metadata": {},
   "outputs": [
    {
     "data": {
      "text/plain": [
       "[[393.13440860215053, 109.87209080047785],\n",
       " [221.55017921146955, 284.82071684587817],\n",
       " [164.35543608124257, 193.98200716845872],\n",
       " [154.26224611708486, 99.77890083632019],\n",
       " [312.3888888888889, 119.96528076463551],\n",
       " [239.656750298686, 247.81235364396656],\n",
       " [306.9446833930707, 116.60088410991648],\n",
       " [212.74157706093206, 446.3117562724014],\n",
       " [128.6316606929512, 96.41450418160105],\n",
       " [310.30908004778996, 237.7191636798089],\n",
       " [239.656750298686, 163.70243727598574],\n",
       " [179.6247510034192, 205.22893711907238],\n",
       " [156.18250334473032, 124.85551657499627],\n",
       " [144.46137951538594, 81.3199137802884],\n",
       " [136.08914820871132, 66.24989742827404],\n",
       " [102.60022298201295, 72.94768247361378],\n",
       " [218.1370150141223, 131.5533016203359]]"
      ]
     },
     "execution_count": 46,
     "metadata": {},
     "output_type": "execute_result"
    }
   ],
   "source": [
    "pos"
   ]
  },
  {
   "cell_type": "code",
   "execution_count": 47,
   "metadata": {},
   "outputs": [],
   "source": [
    "%matplotlib inline"
   ]
  },
  {
   "cell_type": "code",
   "execution_count": null,
   "metadata": {},
   "outputs": [],
   "source": []
  }
 ],
 "metadata": {
  "kernelspec": {
   "display_name": "Python 3",
   "language": "python",
   "name": "python3"
  },
  "language_info": {
   "codemirror_mode": {
    "name": "ipython",
    "version": 3
   },
   "file_extension": ".py",
   "mimetype": "text/x-python",
   "name": "python",
   "nbconvert_exporter": "python",
   "pygments_lexer": "ipython3",
   "version": "3.7.1"
  }
 },
 "nbformat": 4,
 "nbformat_minor": 2
}

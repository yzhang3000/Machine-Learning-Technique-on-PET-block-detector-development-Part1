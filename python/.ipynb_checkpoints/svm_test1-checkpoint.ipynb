{
 "cells": [
  {
   "cell_type": "markdown",
   "metadata": {},
   "source": [
    "# Machine Learning technique on PET block detector development - Part 2-2\n",
    "\n",
    "## Crystal/Pixel discrimination for DQS PET block detector using Machine Learning techniques (v1.0, 2019-09)   \n",
    "## (Continued from Part 2-1)\n",
    "### SVM extra test - part 1  \n",
    "* In this extra test, we will test the performance of the SVM classifier with the whole set of the data with preprocessed input variables.\n",
    "---"
   ]
  },
  {
   "cell_type": "code",
   "execution_count": 2,
   "metadata": {},
   "outputs": [],
   "source": [
    "# load libraries\n",
    "\n",
    "import uproot\n",
    "import numpy as np\n",
    "import pandas as pd\n",
    "import matplotlib.pyplot as plt\n",
    "import matplotlib as mpl\n",
    "# %matplotlib qt\n",
    "%matplotlib inline\n",
    "# %matplotlib notebook\n",
    "\n",
    "import pickle\n",
    "from sklearn.externals import joblib\n",
    "from sklearn import metrics\n",
    "import time\n",
    "\n",
    "from sklearn.svm import SVC\n",
    "\n",
    "\n",
    "plt.rcParams['figure.dpi'] = 120 # default is 72\n",
    "\n",
    "\n",
    "# re-load data\n",
    "\n",
    "file = \"D:\\\\ML on PET block\\\\new_concept_block_lso\\\\new_concept_block_15x15\\\\results\\\\ML_data\\\\new_concept_block_15x15_sorted_events1.csv\"\n",
    "df0 = pd.read_csv (file, comment='#')\n",
    "\n",
    "X = df0.iloc[:,4:].values\n",
    "decoding = df0.iloc[:,0:4].values\n",
    "\n",
    "E_top = X[:,0:18]\n",
    "E_bottom = X[:,18:36]\n",
    "\n",
    "E_x1 = E_top[:, 0:18:2]\n",
    "E_x2 = E_top[:, 18:0:-2]\n",
    "\n",
    "E_y1 = E_bottom[:, 0:18:2]\n",
    "E_y2 = E_bottom[:, 18:0:-2]\n",
    "\n",
    "E_left = np.sum(E_x1, axis = 1)\n",
    "E_right = np.sum(E_x2, axis = 1)\n",
    "\n",
    "E_front = np.sum(E_y1, axis = 1)\n",
    "E_back = np.sum(E_y2, axis = 1)\n",
    "\n",
    "\n",
    "\n",
    "infile = open('./pickle/temp_data1','rb')\n",
    "X_t, X_b, X_a, X_g, X_c, index_train, index_test = pickle.load(infile)\n",
    "infile.close()\n",
    "\n",
    "\n",
    "# pixel_xy = np.array(df0['index_y'] * 15 + df0['index_x'])\n",
    "pixel_x = np.array(df0['index_x'])\n",
    "pixel_y = np.array(df0['index_y'])\n",
    "pixel_xy = pixel_y * 15 + pixel_x\n",
    "\n",
    "pixel_x_train = pixel_x[index_train]\n",
    "pixel_y_train = pixel_y[index_train]\n",
    "pixel_xy_train = pixel_xy[index_train]\n",
    "\n",
    "pixel_x_test = pixel_x[index_test]\n",
    "pixel_y_test = pixel_y[index_test]\n",
    "pixel_xy_test = pixel_xy[index_test]"
   ]
  },
  {
   "cell_type": "code",
   "execution_count": 3,
   "metadata": {},
   "outputs": [],
   "source": [
    "from sklearn.utils import check_random_state\n",
    "\n",
    "def random_cmap(ncolors=256, random_state=None):\n",
    "    \"\"\"\n",
    "    Generate a matplotlib colormap consisting of random (muted) colors.\n",
    "\n",
    "    A random colormap is very useful for plotting segmentation images.\n",
    "\n",
    "    Parameters\n",
    "    ----------\n",
    "    ncolors : int, optional\n",
    "        The number of colors in the colormap.  The default is 256.\n",
    "\n",
    "    random_state : int or `~numpy.random.RandomState`, optional\n",
    "        The pseudo-random number generator state used for random\n",
    "        sampling.  Separate function calls with the same\n",
    "        ``random_state`` will generate the same colormap.\n",
    "\n",
    "    Returns\n",
    "    -------\n",
    "    cmap : `matplotlib.colors.Colormap`\n",
    "        The matplotlib colormap with random colors.\n",
    "    \"\"\"\n",
    "\n",
    "    from matplotlib import colors\n",
    "\n",
    "    prng = check_random_state(random_state)\n",
    "    h = prng.uniform(low=0.0, high=1.0, size=ncolors)\n",
    "    s = prng.uniform(low=0.4, high=0.9, size=ncolors)\n",
    "    v = prng.uniform(low=0.7, high=1.0, size=ncolors)\n",
    "    hsv = np.dstack((h, s, v))\n",
    "    rgb = np.squeeze(colors.hsv_to_rgb(hsv))\n",
    "\n",
    "    return colors.ListedColormap(rgb)\n",
    "\n"
   ]
  },
  {
   "cell_type": "code",
   "execution_count": 4,
   "metadata": {},
   "outputs": [],
   "source": [
    "\n",
    "def generate_grid(lut):\n",
    "    \"\"\"\n",
    "    generate the grid of the lookup table from the lookup table data\n",
    "    \n",
    "    input: lookup table, numpy array\n",
    "    output: grid as numpy array, the same size as the input \n",
    "    \"\"\"\n",
    "    \n",
    "    lut_grid = np.zeros(lut.shape)\n",
    "    pix_x, pix_y = lut_grid.shape\n",
    "\n",
    "    for i in range(pix_x-1):\n",
    "        for j in range(pix_y-1):\n",
    "            if lut[i,j] != lut[i+1,j]:\n",
    "                lut_grid[i,j] = 1\n",
    "                lut_grid[i+1,j] = 1\n",
    "            if lut[i,j] != lut[i,j+1]:\n",
    "                lut_grid[i,j] = 1\n",
    "                lut_grid[i,j+1] = 1\n",
    "    \n",
    "    return lut_grid"
   ]
  },
  {
   "cell_type": "code",
   "execution_count": 5,
   "metadata": {},
   "outputs": [],
   "source": [
    "def plot_prediction_boundary3(reg_func, cmap='hsv', alpha=1, axes=[0, 1.0, 0, 1.0], title='', ax=None, precision=32):\n",
    "    '''\n",
    "    fitting the data with one function, the prediction is the unique pixel index\n",
    "    '''\n",
    "    if ax == None:\n",
    "        fig, ax = plt.subplots(figsize=(4,4))\n",
    "    \n",
    "    x1s = np.linspace(axes[0], axes[1], precision)\n",
    "    x2s = np.linspace(axes[2], axes[3], precision)\n",
    "    x1, x2 = np.meshgrid(x1s, x2s)\n",
    "    X_new = np.c_[x1.ravel(), x2.ravel()]\n",
    "    pixel_xy_pred = reg_func.predict(X_new).reshape(x1.shape)\n",
    "\n",
    "    lut_pred = pixel_xy_pred\n",
    "    ax.imshow(lut_pred, alpha=alpha, cmap=cmap)\n",
    "    ax.set_title(title)\n",
    "    \n",
    "    return lut_pred\n"
   ]
  },
  {
   "cell_type": "code",
   "execution_count": 9,
   "metadata": {},
   "outputs": [],
   "source": [
    "def test_svm1(X, y, index_train, index_test, kernel='linear', notes=''):\n",
    "    '''\n",
    "    output y is the unique pixel index pixel_xy\n",
    "    '''\n",
    "\n",
    "    X_train = X[index_train]\n",
    "    X_test = X[index_test]\n",
    "\n",
    "    clf = SVC(kernel=kernel, random_state=1)\n",
    "    clf.fit(X_train, y[index_train])\n",
    "    \n",
    "    datafile = open('./pickle/SVC_fitting_model_'+kernel+'_'+notes,'wb')\n",
    "    temp_data = {'X':X, 'pixel_xy':pixel_xy, 'index_train':index_train, \\\n",
    "                 'index_test':index_test, 'fitting_data_length':fitting_data_length, \\\n",
    "                 'testing_data_length':testing_data_length, 'model':clf}\n",
    "    pickle.dump(temp_data, datafile)\n",
    "    datafile.close()\n",
    "    \n",
    "    pixel_xy_pred = clf.predict(X_test)\n",
    "\n",
    "    accuracy = sum(y[index_test]==pixel_xy_pred) / index_test.size\n",
    "    \n",
    "    print('accuracy score: %f' % (metrics.accuracy_score(y[index_test], pixel_xy_pred)))\n",
    "        \n",
    "    return clf\n"
   ]
  },
  {
   "cell_type": "code",
   "execution_count": 13,
   "metadata": {},
   "outputs": [
    {
     "name": "stdout",
     "output_type": "stream",
     "text": [
      "=== Anger docoding ===\n",
      "accuracy score: 0.040000\n",
      "Processing time for fitting 0.578315 sec\n"
     ]
    },
    {
     "data": {
      "image/png": "[encoded data removed]",
      "text/plain": [
       "<Figure size 720x360 with 2 Axes>"
      ]
     },
     "metadata": {
      "needs_background": "light"
     },
     "output_type": "display_data"
    },
    {
     "name": "stdout",
     "output_type": "stream",
     "text": [
      "Processing time for predicting 25.855012 sec\n",
      "=== light channel ===\n",
      "accuracy score: 0.024000\n",
      "Processing time for fitting 0.562620 sec\n"
     ]
    },
    {
     "data": {
      "image/png": "[encoded data removed]",
      "text/plain": [
       "<Figure size 720x360 with 2 Axes>"
      ]
     },
     "metadata": {
      "needs_background": "light"
     },
     "output_type": "display_data"
    },
    {
     "name": "stdout",
     "output_type": "stream",
     "text": [
      "Processing time for predicting 25.115982 sec\n"
     ]
    }
   ],
   "source": [
    "#fig, ax = plt.subplots(2,5, figsize=(15, 6))\n",
    "#fig.suptitle(\"SVM, \", fontsize=16)\n",
    "#fig.tight_layout()\n",
    "#fig.subplots_adjust(top=0.9)\n",
    "import pickle\n",
    "\n",
    "\n",
    "#fitting_data_length = 1000\n",
    "#testing_data_length = 1000\n",
    "fitting_data_length = len(index_train)\n",
    "testing_data_length = len(index_test)\n",
    "kernel='linear'\n",
    "\n",
    "#for index, (X, notes) in enumerate( ((X_t,'Anger docoding'), ( X_b, 'Light Channel decoding'), \\\n",
    "#                 (X_a,'Arithmatic mean'), (X_g,'Geometric mean'), \\\n",
    "#                 (X_c,'Complex weight function')) ):\n",
    "for index, (X, notes) in enumerate( ((X_t,'Anger docoding'),(X_b,'light channel')) ):\n",
    "\n",
    "    fig, ax = plt.subplots(1,2, figsize=(6, 3))\n",
    "    fig.suptitle(\"SVM, \" + notes, fontsize=14)\n",
    "    fig.tight_layout()\n",
    "    fig.subplots_adjust(top=0.9)\n",
    "\n",
    "    \n",
    "    print ('=== %s ==='%notes)\n",
    "    t0 = time.time()\n",
    "    clf1 = test_svm1(X, pixel_xy, index_train[:fitting_data_length], index_test[:testing_data_length], kernel=kernel, notes=notes)\n",
    "    t1 = time.time()\n",
    "    print ('Processing time for fitting %f sec'%(t1-t0))\n",
    "    t0 = t1\n",
    "    lut_pred = plot_prediction_boundary3(clf1, cmap='prism', ax=ax[0], precision=256)\n",
    "    ax[1].imshow(generate_grid(lut_pred), cmap='gray')\n",
    "    filename = './figs2/SVC_fitting_model_'+kernel+'_'+notes+'.png'\n",
    "    plt.savefig(filename, dpi=300)\n",
    "\n",
    "    plt.show()\n",
    "\n",
    "    t1 = time.time()\n",
    "    print ('Processing time for predicting %f sec'%(t1-t0))\n",
    "    \n",
    "    "
   ]
  },
  {
   "cell_type": "markdown",
   "metadata": {},
   "source": [
    "* <b>SVM fitting is very slow, the fitting for the whole trainning data set (~900k) take 24+ hours with only input two variables!</b>   \n",
    "=== Anger docoding ===  \n",
    "accuracy score: 0.408781  \n",
    "Processing time for fitting 88436.392204 sec    \n",
    "  \n",
    "* <b>Even with the whole data set, the accuracy of the SVM fitting with linear kernel and precessed input variables is only 0.41 which is much worse than what we achieved with the conventional lookup table method or other ML algorighms such as the Tree classification, etc.</b>"
   ]
  },
  {
   "cell_type": "raw",
   "metadata": {},
   "source": [
    "import pickle\n",
    "file = open('./pickle/SVC_fitting_model_original_X', 'rb')\n",
    "data = pickle.load(file)\n",
    "file.close()\n"
   ]
  },
  {
   "cell_type": "code",
   "execution_count": null,
   "metadata": {},
   "outputs": [],
   "source": []
  }
 ],
 "metadata": {
  "kernelspec": {
   "display_name": "Python 3",
   "language": "python",
   "name": "python3"
  },
  "language_info": {
   "codemirror_mode": {
    "name": "ipython",
    "version": 3
   },
   "file_extension": ".py",
   "mimetype": "text/x-python",
   "name": "python",
   "nbconvert_exporter": "python",
   "pygments_lexer": "ipython3",
   "version": "3.7.1"
  }
 },
 "nbformat": 4,
 "nbformat_minor": 2
}

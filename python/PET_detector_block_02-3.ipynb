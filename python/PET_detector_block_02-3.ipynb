{
 "cells": [
  {
   "cell_type": "markdown",
   "metadata": {},
   "source": [
    "# Machine Learning technique on PET block detector development - Part 2-3\n",
    "\n",
    "## Crystal/Pixel discrimination for DQS PET block detector using Machine Learning techniques (v1.0, 2019-09)   \n",
    "## (Continued from Part 2-2)\n",
    "---\n"
   ]
  },
  {
   "cell_type": "markdown",
   "metadata": {},
   "source": [
    "###  \n",
    "### 7. Scintillator/Pixel discrimination using ML algorithms - Part III, using original multi-channel inputs\n",
    "    Previous studies are focused on the comparison using ML algorithms similar ot the conventional decoding algorithms, which are using the pre-processed input as the ML algorithms' input variable. Such input variables usually had only two inputs, which is much smaller than the original input channels (36 input in the raw data).  \n",
    "    In this section, we are repeat some of the algorithms been used in the previous sections with new input variables, the orginal inputs. Moreover, we will also try other algorithms with such inputs as well."
   ]
  },
  {
   "cell_type": "code",
   "execution_count": 1,
   "metadata": {},
   "outputs": [],
   "source": [
    "# load libraries\n",
    "\n",
    "import uproot\n",
    "import numpy as np\n",
    "import pandas as pd\n",
    "import matplotlib.pyplot as plt\n",
    "import matplotlib as mpl\n",
    "# %matplotlib qt\n",
    "%matplotlib inline\n",
    "# %matplotlib notebook\n",
    "\n",
    "import pickle\n",
    "from sklearn.externals import joblib\n",
    "from sklearn import metrics\n",
    "import time\n",
    "\n",
    "plt.rcParams['figure.dpi'] = 120 # default is 72"
   ]
  },
  {
   "cell_type": "code",
   "execution_count": 2,
   "metadata": {},
   "outputs": [],
   "source": [
    "# re-load data\n",
    "\n",
    "file = \"D:\\\\ML on PET block\\\\new_concept_block_lso\\\\new_concept_block_15x15\\\\results\\\\ML_data\\\\new_concept_block_15x15_sorted_events1.csv\"\n",
    "df0 = pd.read_csv (file, comment='#')\n",
    "\n",
    "X = df0.iloc[:,4:].values\n",
    "decoding = df0.iloc[:,0:4].values\n",
    "\n",
    "E_top = X[:,0:18]\n",
    "E_bottom = X[:,18:36]\n",
    "\n",
    "E_x1 = E_top[:, 0:18:2]\n",
    "E_x2 = E_top[:, 18:0:-2]\n",
    "\n",
    "E_y1 = E_bottom[:, 0:18:2]\n",
    "E_y2 = E_bottom[:, 18:0:-2]\n",
    "\n",
    "E_left = np.sum(E_x1, axis = 1)\n",
    "E_right = np.sum(E_x2, axis = 1)\n",
    "\n",
    "E_front = np.sum(E_y1, axis = 1)\n",
    "E_back = np.sum(E_y2, axis = 1)\n"
   ]
  },
  {
   "cell_type": "code",
   "execution_count": 3,
   "metadata": {},
   "outputs": [],
   "source": [
    "infile = open('./pickle/temp_data1','rb')\n",
    "X_t, X_b, X_a, X_g, X_c, index_train, index_test = pickle.load(infile)\n",
    "infile.close()\n"
   ]
  },
  {
   "cell_type": "code",
   "execution_count": 4,
   "metadata": {},
   "outputs": [],
   "source": [
    "# pixel_xy = np.array(df0['index_y'] * 15 + df0['index_x'])\n",
    "pixel_x = np.array(df0['index_x'])\n",
    "pixel_y = np.array(df0['index_y'])\n",
    "pixel_xy = pixel_y * 15 + pixel_x\n",
    "\n",
    "pixel_x_train = pixel_x[index_train]\n",
    "pixel_y_train = pixel_y[index_train]\n",
    "pixel_xy_train = pixel_xy[index_train]\n",
    "\n",
    "pixel_x_test = pixel_x[index_test]\n",
    "pixel_y_test = pixel_y[index_test]\n",
    "pixel_xy_test = pixel_xy[index_test]\n"
   ]
  },
  {
   "cell_type": "code",
   "execution_count": 5,
   "metadata": {},
   "outputs": [],
   "source": [
    "from sklearn.utils import check_random_state\n",
    "\n",
    "def random_cmap(ncolors=256, random_state=None):\n",
    "    \"\"\"\n",
    "    Generate a matplotlib colormap consisting of random (muted) colors.\n",
    "\n",
    "    A random colormap is very useful for plotting segmentation images.\n",
    "\n",
    "    Parameters\n",
    "    ----------\n",
    "    ncolors : int, optional\n",
    "        The number of colors in the colormap.  The default is 256.\n",
    "\n",
    "    random_state : int or `~numpy.random.RandomState`, optional\n",
    "        The pseudo-random number generator state used for random\n",
    "        sampling.  Separate function calls with the same\n",
    "        ``random_state`` will generate the same colormap.\n",
    "\n",
    "    Returns\n",
    "    -------\n",
    "    cmap : `matplotlib.colors.Colormap`\n",
    "        The matplotlib colormap with random colors.\n",
    "    \"\"\"\n",
    "\n",
    "    from matplotlib import colors\n",
    "\n",
    "    prng = check_random_state(random_state)\n",
    "    h = prng.uniform(low=0.0, high=1.0, size=ncolors)\n",
    "    s = prng.uniform(low=0.4, high=0.9, size=ncolors)\n",
    "    v = prng.uniform(low=0.7, high=1.0, size=ncolors)\n",
    "    hsv = np.dstack((h, s, v))\n",
    "    rgb = np.squeeze(colors.hsv_to_rgb(hsv))\n",
    "\n",
    "    return colors.ListedColormap(rgb)"
   ]
  },
  {
   "cell_type": "code",
   "execution_count": 6,
   "metadata": {},
   "outputs": [],
   "source": [
    "\n",
    "def generate_grid(lut):\n",
    "    \"\"\"\n",
    "    generate the grid of the lookup table from the lookup table data\n",
    "    \n",
    "    input: lookup table, numpy array\n",
    "    output: grid as numpy array, the same size as the input \n",
    "    \"\"\"\n",
    "    \n",
    "    lut_grid = np.zeros(lut.shape)\n",
    "    pix_x, pix_y = lut_grid.shape\n",
    "\n",
    "    for i in range(pix_x-1):\n",
    "        for j in range(pix_y-1):\n",
    "            if lut[i,j] != lut[i+1,j]:\n",
    "                lut_grid[i,j] = 1\n",
    "                lut_grid[i+1,j] = 1\n",
    "            if lut[i,j] != lut[i,j+1]:\n",
    "                lut_grid[i,j] = 1\n",
    "                lut_grid[i,j+1] = 1\n",
    "    \n",
    "    return lut_grid"
   ]
  },
  {
   "cell_type": "markdown",
   "metadata": {},
   "source": [
    "####  \n",
    "#### 7.1 pixel discrimination using decision tree classification algorithms"
   ]
  },
  {
   "cell_type": "code",
   "execution_count": 7,
   "metadata": {},
   "outputs": [],
   "source": [
    "from sklearn.tree import DecisionTreeClassifier"
   ]
  },
  {
   "cell_type": "code",
   "execution_count": 8,
   "metadata": {},
   "outputs": [],
   "source": [
    "def plot_prediction_boundary3(reg_func, cmap='hsv', alpha=1, axes=[0, 1.0, 0, 1.0], title='', ax=None):\n",
    "    '''\n",
    "    fitting the data with one function, the prediction is the unique pixel index\n",
    "    '''\n",
    "    if ax == None:\n",
    "        fig, ax = plt.subplots(figsize=(4,4))\n",
    "    \n",
    "    x1s = np.linspace(axes[0], axes[1], 256)\n",
    "    x2s = np.linspace(axes[2], axes[3], 256)\n",
    "    x1, x2 = np.meshgrid(x1s, x2s)\n",
    "    X_new = np.c_[x1.ravel(), x2.ravel()]\n",
    "    pixel_xy_pred = reg_func.predict(X_new).reshape(x1.shape)\n",
    "\n",
    "    lut_pred = pixel_xy_pred\n",
    "    ax.imshow(lut_pred, alpha=alpha, cmap=cmap)\n",
    "    ax.set_title(title)\n",
    "        \n",
    "        \n",
    "    return lut_pred"
   ]
  },
  {
   "cell_type": "code",
   "execution_count": 9,
   "metadata": {},
   "outputs": [],
   "source": [
    "def test_tree_classifier4(X, y, index_train, index_test, depth):\n",
    "    '''\n",
    "    output y is the unique pixel index pixel_xy\n",
    "    '''\n",
    "\n",
    "    X_train = X[index_train]\n",
    "    X_test = X[index_test]\n",
    "    y_train = y[index_train]\n",
    "    y_test = y[index_test]\n",
    "    \n",
    "\n",
    "    tree_clf = DecisionTreeClassifier(max_depth=depth, random_state=0)\n",
    "    tree_clf.fit(X_train, y_train)\n",
    "    y_pred = tree_clf.predict(X_test)\n",
    "\n",
    "    accuracy = sum(y_test==y_pred) / y_pred.size\n",
    "    print('accuracy from tree classification (max_depth=%d): %f' % (depth,accuracy))\n",
    "\n",
    "    return tree_clf, accuracy"
   ]
  },
  {
   "cell_type": "code",
   "execution_count": 90,
   "metadata": {},
   "outputs": [
    {
     "name": "stdout",
     "output_type": "stream",
     "text": [
      "accuracy from tree classification (max_depth=3): 0.031930\n",
      "accuracy from tree classification (max_depth=5): 0.097685\n",
      "accuracy from tree classification (max_depth=7): 0.222758\n",
      "accuracy from tree classification (max_depth=9): 0.374902\n",
      "accuracy from tree classification (max_depth=11): 0.505185\n",
      "accuracy from tree classification (max_depth=13): 0.583720\n",
      "accuracy from tree classification (max_depth=15): 0.629709\n",
      "accuracy from tree classification (max_depth=17): 0.655389\n",
      "accuracy from tree classification (max_depth=19): 0.665976\n",
      "accuracy from tree classification (max_depth=21): 0.667570\n"
     ]
    },
    {
     "data": {
      "image/png": "[encoded data removed]",
      "text/plain": [
       "<Figure size 720x480 with 1 Axes>"
      ]
     },
     "metadata": {
      "needs_background": "light"
     },
     "output_type": "display_data"
    }
   ],
   "source": [
    "depth=[3,5,7,9,11,13,15,17,19,21]\n",
    "#depth = [3,5]\n",
    "accuracy = []\n",
    "\n",
    "for index, n in enumerate(depth):\n",
    "    clf, accu = test_tree_classifier4(X, pixel_xy, index_train, index_test, depth = n)\n",
    "    accuracy.append(accu)\n",
    "#    lut_pred = plot_prediction_boundary3(clf, cmap=random_cmap(), title='depth='+str(n), ax=ax[0,index])\n",
    "#    ax[1,index].imshow(generate_grid(lut_pred), cmap='gray')\n",
    "\n",
    "#scale = 3\n",
    "plt.plot(depth, accuracy,'ro-')\n",
    "plt.title(\"Decision Tree with all input channels\")\n",
    "plt.xlabel(\"Decision Tree Depth\")\n",
    "plt.ylabel(\"Accuracy\")\n",
    "plt.savefig(\".\\\\figs2\\\\decisiontree_accu_with_all_channels.png\", dpi=300)"
   ]
  },
  {
   "cell_type": "markdown",
   "metadata": {},
   "source": [
    "<b> saved output <b>\n",
    "***\n",
    "accuracy from tree classification (max_depth=3): 0.031930  \n",
    "accuracy from tree classification (max_depth=5): 0.097685  \n",
    "accuracy from tree classification (max_depth=7): 0.222758  \n",
    "accuracy from tree classification (max_depth=9): 0.374902  \n",
    "accuracy from tree classification (max_depth=11): 0.505185  \n",
    "accuracy from tree classification (max_depth=13): 0.583720  \n",
    "accuracy from tree classification (max_depth=15): 0.629709  \n",
    "accuracy from tree classification (max_depth=17): 0.655389  \n",
    "accuracy from tree classification (max_depth=19): 0.665976  \n",
    "accuracy from tree classification (max_depth=21): 0.667570  "
   ]
  },
  {
   "cell_type": "markdown",
   "metadata": {},
   "source": [
    "* <b>Decision Tree with all channel inputs achieved better result of 0.667 than that with pre-processed inputs (0.57)."
   ]
  },
  {
   "cell_type": "markdown",
   "metadata": {},
   "source": [
    "####  \n",
    "#### 7.2 pixel discrimination using Naive Bayes method\n",
    "***\n"
   ]
  },
  {
   "cell_type": "code",
   "execution_count": 10,
   "metadata": {},
   "outputs": [],
   "source": [
    "# Fitting Naive Bayes\n",
    "from sklearn.naive_bayes import GaussianNB"
   ]
  },
  {
   "cell_type": "code",
   "execution_count": 11,
   "metadata": {},
   "outputs": [],
   "source": [
    "def NB(X, y, index_train, index_test):\n",
    "    '''\n",
    "    output y is the unique pixel index pixel_xy\n",
    "    '''\n",
    "\n",
    "    X_train = X[index_train]\n",
    "    X_test = X[index_test]\n",
    "    y_train = y[index_train]\n",
    "    y_test = y[index_test]\n",
    "    \n",
    "    nb = GaussianNB()\n",
    "    nb.fit(X_train, y_train)\n",
    "    y_pred = nb.predict(X_test)\n",
    "\n",
    "    accuracy = sum(y_test==y_pred) / y_test.size\n",
    "    print('accuracy from Naive Bayes: %f' % (accuracy))\n",
    "        \n",
    "    return nb"
   ]
  },
  {
   "cell_type": "code",
   "execution_count": 73,
   "metadata": {},
   "outputs": [
    {
     "name": "stdout",
     "output_type": "stream",
     "text": [
      "accuracy from Naive Bayes: 0.445725\n"
     ]
    }
   ],
   "source": [
    "clf = NB(X, pixel_xy, index_train, index_test)   \n",
    " "
   ]
  },
  {
   "cell_type": "markdown",
   "metadata": {},
   "source": [
    "* <b>The Naive Bayes with all channel inputs result of 0.445 is not as good as that with preprocessed inputs of 0.507.</b>  \n"
   ]
  },
  {
   "cell_type": "markdown",
   "metadata": {},
   "source": [
    "####  \n",
    "#### 7.3 pixel discrimination using KNN method\n",
    "***"
   ]
  },
  {
   "cell_type": "code",
   "execution_count": 12,
   "metadata": {},
   "outputs": [],
   "source": [
    "from sklearn.neighbors import KNeighborsClassifier\n"
   ]
  },
  {
   "cell_type": "code",
   "execution_count": 65,
   "metadata": {},
   "outputs": [],
   "source": [
    "def KNN(X, y, index_train, index_test, neighbors=3):\n",
    "    '''\n",
    "    output y is the unique pixel index pixel_xy\n",
    "    '''\n",
    "\n",
    "    X_train = X[index_train]\n",
    "    X_test = X[index_test]\n",
    "    y_train = y[index_train]\n",
    "    y_test = y[index_test]\n",
    "    \n",
    "    knn = KNeighborsClassifier(n_neighbors=neighbors, metric='minkowski', p=2, n_jobs=4)\n",
    "    knn.fit(X_train, y_train)\n",
    "    y_pred = knn.predict(X_test)\n",
    "\n",
    "    accuracy = sum(y_test==y_pred) / y_test.size\n",
    "    print(\"accuracy from KNN (neighbors=%d): %f\" % (neighbors, accuracy))\n",
    "        \n",
    "    return knn, accuracy"
   ]
  },
  {
   "cell_type": "code",
   "execution_count": 67,
   "metadata": {},
   "outputs": [
    {
     "name": "stdout",
     "output_type": "stream",
     "text": [
      "accuracy from KNN (neighbors=3): 0.763000\n"
     ]
    }
   ],
   "source": [
    "# since KNN store all data set and need to calculate everything in predicting process, so it's slow for large data set with multiple variables\n",
    "# therefore we limit the number of data set for training and testing\n",
    "train_len = 500000\n",
    "test_len = 1000\n",
    "\n",
    "#neighbor_range  = [3,5,7,9,11]\n",
    "neighbor_range  = [3]\n",
    "\n",
    "for index, n in enumerate(neighbor_range):\n",
    "    clf, accu = KNN(X, pixel_xy, index_train[:train_len], index_test[:test_len], neighbors = n)\n",
    "#    lut_pred = plot_prediction_boundary3(clf, cmap=random_cmap(), title='neighbors='+str(n), ax=ax[0,index])\n",
    "#    ax[1,index].imshow(generate_grid(lut_pred), cmap='gray')\n"
   ]
  },
  {
   "cell_type": "markdown",
   "metadata": {},
   "source": [
    "<b> saved output <b>\n",
    "***\n",
    "train_len = 100000, test_len = 10000  \n",
    ">>\n",
    "accuracy from KNN (neighbors=3): 0.699300  \n",
    "accuracy from KNN (neighbors=5): 0.707300  \n",
    "accuracy from KNN (neighbors=7): 0.703700  \n",
    "accuracy from KNN (neighbors=8): 0.704600  \n",
    "accuracy from KNN (neighbors=11): 0.702800  \n",
    "  \n",
    "train_len = 200000, test_len = 1000\n",
    ">>\n",
    "accuracy from KNN (neighbors=3): 0.742000  \n",
    "accuracy from KNN (neighbors=5): 0.760000  \n",
    "accuracy from KNN (neighbors=7): 0.762000  \n",
    "accuracy from KNN (neighbors=8): 0.763000  \n",
    "accuracy from KNN (neighbors=11): 0.759000  \n",
    "    \n",
    "train_len = 400000, test_len = 1000\n",
    ">>\n",
    "accuracy from KNN (neighbors=3): 0.767000  \n",
    "accuracy from KNN (neighbors=5): 0.781000  \n",
    "accuracy from KNN (neighbors=7): 0.783000  \n",
    "accuracy from KNN (neighbors=8): 0.781000  \n",
    "accuracy from KNN (neighbors=11): 0.781000   \n",
    "\n",
    "train_len = 800000, test_len = 1000\n",
    ">>\n",
    "accuracy from KNN (neighbors=3): 0.769000  \n",
    "accuracy from KNN (neighbors=5): 0.767000  \n",
    "accuracy from KNN (neighbors=7): 0.782000  \n",
    "accuracy from KNN (neighbors=9): 0.784000  \n",
    "accuracy from KNN (neighbors=11): 0.782000      "
   ]
  },
  {
   "cell_type": "code",
   "execution_count": 40,
   "metadata": {},
   "outputs": [],
   "source": [
    "import numpy as np\n",
    "\n",
    "def KNN2(X, y, index_train, index_test, neighbors=3):\n",
    "    '''\n",
    "    output y is the unique pixel index pixel_xy\n",
    "    '''\n",
    "\n",
    "    X_train = X[index_train]\n",
    "    X_test = X[index_test]\n",
    "    y_train = y[index_train]\n",
    "    y_test = y[index_test]\n",
    "    \n",
    "    accu = []\n",
    "    \n",
    "    if type(neighbors) == int:\n",
    "        knn = KNeighborsClassifier(n_neighbors=n, metric='minkowski', p=2, n_jobs=4)\n",
    "        knn.fit(X_train, y_train)\n",
    "        y_pred = knn.predict(X_test)\n",
    "\n",
    "        accuracy = sum(y_test==y_pred) / y_test.size\n",
    "        print(\"accuracy from KNN (neighbors=%d): %f\" % (neighbors, accuracy))\n",
    "        \n",
    "        return knn, accuracy\n",
    "        \n",
    "    elif type(neighbors)==list or type(neighbors)==np.ndarray:\n",
    "\n",
    "        for n in neighbors:\n",
    "            knn = KNeighborsClassifier(n_neighbors=n, metric='minkowski', p=2, n_jobs=4)\n",
    "            knn.fit(X_train, y_train)\n",
    "            y_pred = knn.predict(X_test)\n",
    "\n",
    "            accuracy = sum(y_test==y_pred) / y_test.size\n",
    "            print(\"accuracy from KNN (neighbors=%d): %f\" % (n, accuracy))\n",
    "            \n",
    "            accu.append(accuracy)\n",
    "        \n",
    "        return knn, accu\n",
    "    \n",
    "    else:\n",
    "        pass\n",
    "    \n",
    "    return "
   ]
  },
  {
   "cell_type": "code",
   "execution_count": 100,
   "metadata": {},
   "outputs": [
    {
     "name": "stdout",
     "output_type": "stream",
     "text": [
      "accuracy from KNN (neighbors=3): 0.634000\n",
      "accuracy from KNN (neighbors=5): 0.635000\n",
      "accuracy from KNN (neighbors=7): 0.626000\n",
      "accuracy from KNN (neighbors=9): 0.607000\n",
      "accuracy from KNN (neighbors=11): 0.582000\n",
      "accuracy from KNN (neighbors=3): 0.668000\n",
      "accuracy from KNN (neighbors=5): 0.668000\n",
      "accuracy from KNN (neighbors=7): 0.670000\n",
      "accuracy from KNN (neighbors=9): 0.660000\n",
      "accuracy from KNN (neighbors=11): 0.653000\n",
      "accuracy from KNN (neighbors=3): 0.688000\n",
      "accuracy from KNN (neighbors=5): 0.712000\n",
      "accuracy from KNN (neighbors=7): 0.694000\n",
      "accuracy from KNN (neighbors=9): 0.694000\n",
      "accuracy from KNN (neighbors=11): 0.682000\n",
      "accuracy from KNN (neighbors=3): 0.726000\n",
      "accuracy from KNN (neighbors=5): 0.735000\n",
      "accuracy from KNN (neighbors=7): 0.740000\n",
      "accuracy from KNN (neighbors=9): 0.737000\n",
      "accuracy from KNN (neighbors=11): 0.725000\n",
      "accuracy from KNN (neighbors=3): 0.742000\n",
      "accuracy from KNN (neighbors=5): 0.760000\n",
      "accuracy from KNN (neighbors=7): 0.762000\n",
      "accuracy from KNN (neighbors=9): 0.760000\n",
      "accuracy from KNN (neighbors=11): 0.759000\n",
      "accuracy from KNN (neighbors=3): 0.751000\n",
      "accuracy from KNN (neighbors=5): 0.781000\n",
      "accuracy from KNN (neighbors=7): 0.768000\n",
      "accuracy from KNN (neighbors=9): 0.771000\n",
      "accuracy from KNN (neighbors=11): 0.768000\n",
      "accuracy from KNN (neighbors=3): 0.762000\n",
      "accuracy from KNN (neighbors=5): 0.775000\n",
      "accuracy from KNN (neighbors=7): 0.783000\n",
      "accuracy from KNN (neighbors=9): 0.781000\n",
      "accuracy from KNN (neighbors=11): 0.781000\n"
     ]
    },
    {
     "data": {
      "image/png": "[encoded data removed]",
      "text/plain": [
       "<Figure size 432x288 with 1 Axes>"
      ]
     },
     "metadata": {
      "needs_background": "light"
     },
     "output_type": "display_data"
    }
   ],
   "source": [
    "train_len = [10000, 20000, 50000, 100000, 200000, 300000, 500000]\n",
    "test_len = 1000\n",
    "accuracy = []\n",
    "neighbors = [x for x in range(3,13,2)]\n",
    "\n",
    "for L in train_len:\n",
    "    clf, accu = KNN2(X, pixel_xy, index_train[:L], index_test[:test_len], neighbors = neighbors)\n",
    "    accuracy.append(accu)\n",
    "#    lut_pred = plot_prediction_boundary3(clf, cmap=random_cmap(), title='depth='+str(n), ax=ax[0,index])\n",
    "#    ax[1,index].imshow(generate_grid(lut_pred), cmap='gray')\n",
    "\n",
    "lines = []\n",
    "for j in range(len(accuracy)):\n",
    "    line, = plt.plot(neighbors, accuracy[j],'o-', label='trainning size = '+ str(train_len[j]))\n",
    "    lines.append(line)\n",
    "    \n",
    "plt.title(\"Decision Tree with all input channels\")\n",
    "plt.xlabel(\"Number of neighbors\")\n",
    "plt.ylabel(\"Accuracy\")\n",
    "plt.legend()\n",
    "\n",
    "plt.savefig(\".\\\\figs2\\\\KNN_accu_with_all_channels.png\", dpi=300)"
   ]
  },
  {
   "cell_type": "markdown",
   "metadata": {},
   "source": [
    "* <b>The KNN with all channel inputs could achieve over 0.70 with 100k events or 0.78 with 500k events which is much better than that with preprocessed inputs which is around 0.56.</b>  \n"
   ]
  },
  {
   "cell_type": "markdown",
   "metadata": {},
   "source": [
    "####  \n",
    "#### 7.4 pixel discrimination using SVM method\n",
    "***\n",
    "The previous studies are using the Anger decoding or Light Channel decoding techniques, in which the input variables are the combinations of original input variables (photosensor counts). Here we will use the SVM algorithm along with the original input variables to see whether better prediction could be made from the original variables.  \n",
    "<b>Since one of the SVM's advantage is that it works more effectively on high dimensional spaces, which means more input variables, it works better. With the Anger decoding or Light Channel decoding techniques, the 36 input variables are reduced to only two variables. which might not be suitable for SVM algorithm. "
   ]
  },
  {
   "cell_type": "code",
   "execution_count": 8,
   "metadata": {},
   "outputs": [],
   "source": [
    "from sklearn.svm import SVC"
   ]
  },
  {
   "cell_type": "markdown",
   "metadata": {},
   "source": [
    "#####  \n",
    "##### 7.4.1 SVM using original 36 sensors input variables\n",
    "* Based on the study results from [svm_test2](https://github.com/yzhang3000/Machine-Learning-Techniques-on-PET-block-detector-development/blob/master/python/svm_test2.md) memtioned above, we are choosing 'poly' as the kernel and data set length is 10k to 50k."
   ]
  },
  {
   "cell_type": "code",
   "execution_count": 4,
   "metadata": {},
   "outputs": [],
   "source": [
    "# load the model generated by svm_test2\n",
    "\n",
    "import pickle\n",
    "\n",
    "svm_model_file ='.//models//svm_poly_50k.pkl'\n",
    "fp = open(svm_model_file,'rb')\n",
    "data = pickle.load(fp)\n",
    "fp.close()"
   ]
  },
  {
   "cell_type": "code",
   "execution_count": 10,
   "metadata": {},
   "outputs": [
    {
     "data": {
      "text/plain": [
       "[[10000, 20000, 30000, 40000, 50000],\n",
       " [SVC(C=1.0, cache_size=200, class_weight=None, coef0=0.0,\n",
       "    decision_function_shape='ovr', degree=3, gamma='auto', kernel='poly',\n",
       "    max_iter=-1, probability=False, random_state=1, shrinking=True,\n",
       "    tol=0.001, verbose=False),\n",
       "  SVC(C=1.0, cache_size=200, class_weight=None, coef0=0.0,\n",
       "    decision_function_shape='ovr', degree=3, gamma='auto', kernel='poly',\n",
       "    max_iter=-1, probability=False, random_state=1, shrinking=True,\n",
       "    tol=0.001, verbose=False),\n",
       "  SVC(C=1.0, cache_size=200, class_weight=None, coef0=0.0,\n",
       "    decision_function_shape='ovr', degree=3, gamma='auto', kernel='poly',\n",
       "    max_iter=-1, probability=False, random_state=1, shrinking=True,\n",
       "    tol=0.001, verbose=False),\n",
       "  SVC(C=1.0, cache_size=200, class_weight=None, coef0=0.0,\n",
       "    decision_function_shape='ovr', degree=3, gamma='auto', kernel='poly',\n",
       "    max_iter=-1, probability=False, random_state=1, shrinking=True,\n",
       "    tol=0.001, verbose=False),\n",
       "  SVC(C=1.0, cache_size=200, class_weight=None, coef0=0.0,\n",
       "    decision_function_shape='ovr', degree=3, gamma='auto', kernel='poly',\n",
       "    max_iter=-1, probability=False, random_state=1, shrinking=True,\n",
       "    tol=0.001, verbose=False)]]"
      ]
     },
     "execution_count": 10,
     "metadata": {},
     "output_type": "execute_result"
    }
   ],
   "source": [
    "data"
   ]
  },
  {
   "cell_type": "code",
   "execution_count": 11,
   "metadata": {},
   "outputs": [],
   "source": [
    "model = data[1][4]"
   ]
  },
  {
   "cell_type": "code",
   "execution_count": 40,
   "metadata": {},
   "outputs": [
    {
     "name": "stdout",
     "output_type": "stream",
     "text": [
      "accuracy score: 0.691000\n"
     ]
    }
   ],
   "source": [
    "# test accuracy\n",
    "\n",
    "testing_data_length = 2000\n",
    "\n",
    "X_test = X[index_test[:testing_data_length]]\n",
    "pixel_xy_pred = model.predict(X_test)\n",
    "accuracy = sum(pixel_xy_test[:testing_data_length]==pixel_xy_pred) / testing_data_length\n",
    "print('accuracy score: %f' % (metrics.accuracy_score(pixel_xy_test[:testing_data_length], pixel_xy_pred)))\n",
    " "
   ]
  },
  {
   "cell_type": "code",
   "execution_count": null,
   "metadata": {},
   "outputs": [],
   "source": []
  }
 ],
 "metadata": {
  "kernelspec": {
   "display_name": "Python 3",
   "language": "python",
   "name": "python3"
  },
  "language_info": {
   "codemirror_mode": {
    "name": "ipython",
    "version": 3
   },
   "file_extension": ".py",
   "mimetype": "text/x-python",
   "name": "python",
   "nbconvert_exporter": "python",
   "pygments_lexer": "ipython3",
   "version": "3.7.1"
  }
 },
 "nbformat": 4,
 "nbformat_minor": 2
}
